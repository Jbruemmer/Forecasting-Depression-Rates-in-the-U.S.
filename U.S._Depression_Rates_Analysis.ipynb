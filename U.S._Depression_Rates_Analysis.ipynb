{
 "cells": [
  {
   "cell_type": "markdown",
   "metadata": {},
   "source": [
    "# Modeling Mental Health Illness \n"
   ]
  },
  {
   "cell_type": "markdown",
   "metadata": {},
   "source": [
    "## Overview\n",
    "The goal of this project is to model depression rates in the U.S. This is useful not only for government agencies, but also to better understand what else is correlated with depression. Having a better forecast for depression will allow the government to allocate additional funds to fight the mental health crises. The final project is useful to any mental health organization or government agency that can advocate or provide support for those with depression."
   ]
  },
  {
   "cell_type": "markdown",
   "metadata": {},
   "source": [
    "## Business Understanding\n",
    "Depression rates in the U.S. have grown significantly in the past two years during Covid. This has a tremendous impact on not only those who experience this disease, it affects those around them, and the Economy as a whole. According to a 2018 study by [PharmaEconomics](https://link.springer.com/article/10.1007/s40273-021-01019-4), depression cost the U.S. economy $326 billion in 2018. This number is rising, not only because of rising rates but because those with the disease are not willing or in many cases unable to receive proper care.\n",
    "\n",
    "By modeling Depression Rates more accurately, the CDC will be able to more confidently secure increased funding to help improve the lives of those with this disease and therefore ease the economic and psychological burden of U.S. citizens."
   ]
  },
  {
   "cell_type": "code",
   "execution_count": 1,
   "metadata": {},
   "outputs": [],
   "source": [
    "import pandas as pd\n",
    "import numpy as np\n",
    "pd.set_option('display.max_rows', 10)\n",
    "from datetime import datetime as dt\n",
    "\n",
    "import matplotlib.pyplot as plt\n",
    "from sklearn.metrics import mean_squared_error\n",
    "\n",
    "import seaborn as sns\n",
    "from statsmodels.tsa.stattools import adfuller\n",
    "from sklearn.model_selection import TimeSeriesSplit\n",
    "plt.style.use('ggplot')\n",
    "\n",
    "#statsmodels\n",
    "from statsmodels.tsa.arima.model import ARIMA\n",
    "from statsmodels.tsa.stattools import acf, pacf, adfuller\n",
    "from statsmodels.graphics.tsaplots import plot_acf, plot_pacf\n",
    "from statsmodels.tsa.statespace.sarimax import SARIMAX\n",
    "import itertools\n"
   ]
  },
  {
   "cell_type": "code",
   "execution_count": 2,
   "metadata": {},
   "outputs": [],
   "source": [
    "#Load Data\n",
    "mental_disorder_df = pd.read_csv('data/prevalence-by-mental-and-substance-use-disorder.csv')"
   ]
  },
  {
   "cell_type": "code",
   "execution_count": 3,
   "metadata": {},
   "outputs": [
    {
     "data": {
      "text/html": [
       "<div>\n",
       "<style scoped>\n",
       "    .dataframe tbody tr th:only-of-type {\n",
       "        vertical-align: middle;\n",
       "    }\n",
       "\n",
       "    .dataframe tbody tr th {\n",
       "        vertical-align: top;\n",
       "    }\n",
       "\n",
       "    .dataframe thead th {\n",
       "        text-align: right;\n",
       "    }\n",
       "</style>\n",
       "<table border=\"1\" class=\"dataframe\">\n",
       "  <thead>\n",
       "    <tr style=\"text-align: right;\">\n",
       "      <th></th>\n",
       "      <th>Entity</th>\n",
       "      <th>Code</th>\n",
       "      <th>Year</th>\n",
       "      <th>Prevalence - Schizophrenia - Sex: Both - Age: Age-standardized (Percent)</th>\n",
       "      <th>Prevalence - Bipolar disorder - Sex: Both - Age: Age-standardized (Percent)</th>\n",
       "      <th>Prevalence - Eating disorders - Sex: Both - Age: Age-standardized (Percent)</th>\n",
       "      <th>Prevalence - Anxiety disorders - Sex: Both - Age: Age-standardized (Percent)</th>\n",
       "      <th>Prevalence - Drug use disorders - Sex: Both - Age: Age-standardized (Percent)</th>\n",
       "      <th>Prevalence - Depressive disorders - Sex: Both - Age: Age-standardized (Percent)</th>\n",
       "      <th>Prevalence - Alcohol use disorders - Sex: Both - Age: Age-standardized (Percent)</th>\n",
       "    </tr>\n",
       "  </thead>\n",
       "  <tbody>\n",
       "    <tr>\n",
       "      <th>0</th>\n",
       "      <td>Afghanistan</td>\n",
       "      <td>AFG</td>\n",
       "      <td>1990</td>\n",
       "      <td>0.228979</td>\n",
       "      <td>0.721207</td>\n",
       "      <td>0.131001</td>\n",
       "      <td>4.835127</td>\n",
       "      <td>0.454202</td>\n",
       "      <td>5.125291</td>\n",
       "      <td>0.444036</td>\n",
       "    </tr>\n",
       "    <tr>\n",
       "      <th>1</th>\n",
       "      <td>Afghanistan</td>\n",
       "      <td>AFG</td>\n",
       "      <td>1991</td>\n",
       "      <td>0.228120</td>\n",
       "      <td>0.719952</td>\n",
       "      <td>0.126395</td>\n",
       "      <td>4.821765</td>\n",
       "      <td>0.447112</td>\n",
       "      <td>5.116306</td>\n",
       "      <td>0.444250</td>\n",
       "    </tr>\n",
       "    <tr>\n",
       "      <th>2</th>\n",
       "      <td>Afghanistan</td>\n",
       "      <td>AFG</td>\n",
       "      <td>1992</td>\n",
       "      <td>0.227328</td>\n",
       "      <td>0.718418</td>\n",
       "      <td>0.121832</td>\n",
       "      <td>4.801434</td>\n",
       "      <td>0.441190</td>\n",
       "      <td>5.106558</td>\n",
       "      <td>0.445501</td>\n",
       "    </tr>\n",
       "    <tr>\n",
       "      <th>3</th>\n",
       "      <td>Afghanistan</td>\n",
       "      <td>AFG</td>\n",
       "      <td>1993</td>\n",
       "      <td>0.226468</td>\n",
       "      <td>0.717452</td>\n",
       "      <td>0.117942</td>\n",
       "      <td>4.789363</td>\n",
       "      <td>0.435581</td>\n",
       "      <td>5.100328</td>\n",
       "      <td>0.445958</td>\n",
       "    </tr>\n",
       "    <tr>\n",
       "      <th>4</th>\n",
       "      <td>Afghanistan</td>\n",
       "      <td>AFG</td>\n",
       "      <td>1994</td>\n",
       "      <td>0.225567</td>\n",
       "      <td>0.717012</td>\n",
       "      <td>0.114547</td>\n",
       "      <td>4.784923</td>\n",
       "      <td>0.431822</td>\n",
       "      <td>5.099424</td>\n",
       "      <td>0.445779</td>\n",
       "    </tr>\n",
       "    <tr>\n",
       "      <th>...</th>\n",
       "      <td>...</td>\n",
       "      <td>...</td>\n",
       "      <td>...</td>\n",
       "      <td>...</td>\n",
       "      <td>...</td>\n",
       "      <td>...</td>\n",
       "      <td>...</td>\n",
       "      <td>...</td>\n",
       "      <td>...</td>\n",
       "      <td>...</td>\n",
       "    </tr>\n",
       "    <tr>\n",
       "      <th>6835</th>\n",
       "      <td>Zimbabwe</td>\n",
       "      <td>ZWE</td>\n",
       "      <td>2015</td>\n",
       "      <td>0.209359</td>\n",
       "      <td>0.560882</td>\n",
       "      <td>0.099610</td>\n",
       "      <td>3.315701</td>\n",
       "      <td>0.599604</td>\n",
       "      <td>3.548613</td>\n",
       "      <td>1.734969</td>\n",
       "    </tr>\n",
       "    <tr>\n",
       "      <th>6836</th>\n",
       "      <td>Zimbabwe</td>\n",
       "      <td>ZWE</td>\n",
       "      <td>2016</td>\n",
       "      <td>0.209979</td>\n",
       "      <td>0.561768</td>\n",
       "      <td>0.100821</td>\n",
       "      <td>3.324230</td>\n",
       "      <td>0.603658</td>\n",
       "      <td>3.557508</td>\n",
       "      <td>1.689281</td>\n",
       "    </tr>\n",
       "    <tr>\n",
       "      <th>6837</th>\n",
       "      <td>Zimbabwe</td>\n",
       "      <td>ZWE</td>\n",
       "      <td>2017</td>\n",
       "      <td>0.210631</td>\n",
       "      <td>0.562612</td>\n",
       "      <td>0.101671</td>\n",
       "      <td>3.330569</td>\n",
       "      <td>0.608096</td>\n",
       "      <td>3.564138</td>\n",
       "      <td>1.651805</td>\n",
       "    </tr>\n",
       "    <tr>\n",
       "      <th>6838</th>\n",
       "      <td>Zimbabwe</td>\n",
       "      <td>ZWE</td>\n",
       "      <td>2018</td>\n",
       "      <td>0.211237</td>\n",
       "      <td>0.563283</td>\n",
       "      <td>0.102398</td>\n",
       "      <td>3.317500</td>\n",
       "      <td>0.609065</td>\n",
       "      <td>3.563141</td>\n",
       "      <td>1.686711</td>\n",
       "    </tr>\n",
       "    <tr>\n",
       "      <th>6839</th>\n",
       "      <td>Zimbabwe</td>\n",
       "      <td>ZWE</td>\n",
       "      <td>2019</td>\n",
       "      <td>0.211969</td>\n",
       "      <td>0.563820</td>\n",
       "      <td>0.102902</td>\n",
       "      <td>3.283934</td>\n",
       "      <td>0.610644</td>\n",
       "      <td>3.554571</td>\n",
       "      <td>1.776729</td>\n",
       "    </tr>\n",
       "  </tbody>\n",
       "</table>\n",
       "<p>6840 rows × 10 columns</p>\n",
       "</div>"
      ],
      "text/plain": [
       "           Entity Code  Year  \\\n",
       "0     Afghanistan  AFG  1990   \n",
       "1     Afghanistan  AFG  1991   \n",
       "2     Afghanistan  AFG  1992   \n",
       "3     Afghanistan  AFG  1993   \n",
       "4     Afghanistan  AFG  1994   \n",
       "...           ...  ...   ...   \n",
       "6835     Zimbabwe  ZWE  2015   \n",
       "6836     Zimbabwe  ZWE  2016   \n",
       "6837     Zimbabwe  ZWE  2017   \n",
       "6838     Zimbabwe  ZWE  2018   \n",
       "6839     Zimbabwe  ZWE  2019   \n",
       "\n",
       "      Prevalence - Schizophrenia - Sex: Both - Age: Age-standardized (Percent)  \\\n",
       "0                                              0.228979                          \n",
       "1                                              0.228120                          \n",
       "2                                              0.227328                          \n",
       "3                                              0.226468                          \n",
       "4                                              0.225567                          \n",
       "...                                                 ...                          \n",
       "6835                                           0.209359                          \n",
       "6836                                           0.209979                          \n",
       "6837                                           0.210631                          \n",
       "6838                                           0.211237                          \n",
       "6839                                           0.211969                          \n",
       "\n",
       "      Prevalence - Bipolar disorder - Sex: Both - Age: Age-standardized (Percent)  \\\n",
       "0                                              0.721207                             \n",
       "1                                              0.719952                             \n",
       "2                                              0.718418                             \n",
       "3                                              0.717452                             \n",
       "4                                              0.717012                             \n",
       "...                                                 ...                             \n",
       "6835                                           0.560882                             \n",
       "6836                                           0.561768                             \n",
       "6837                                           0.562612                             \n",
       "6838                                           0.563283                             \n",
       "6839                                           0.563820                             \n",
       "\n",
       "      Prevalence - Eating disorders - Sex: Both - Age: Age-standardized (Percent)  \\\n",
       "0                                              0.131001                             \n",
       "1                                              0.126395                             \n",
       "2                                              0.121832                             \n",
       "3                                              0.117942                             \n",
       "4                                              0.114547                             \n",
       "...                                                 ...                             \n",
       "6835                                           0.099610                             \n",
       "6836                                           0.100821                             \n",
       "6837                                           0.101671                             \n",
       "6838                                           0.102398                             \n",
       "6839                                           0.102902                             \n",
       "\n",
       "      Prevalence - Anxiety disorders - Sex: Both - Age: Age-standardized (Percent)  \\\n",
       "0                                              4.835127                              \n",
       "1                                              4.821765                              \n",
       "2                                              4.801434                              \n",
       "3                                              4.789363                              \n",
       "4                                              4.784923                              \n",
       "...                                                 ...                              \n",
       "6835                                           3.315701                              \n",
       "6836                                           3.324230                              \n",
       "6837                                           3.330569                              \n",
       "6838                                           3.317500                              \n",
       "6839                                           3.283934                              \n",
       "\n",
       "      Prevalence - Drug use disorders - Sex: Both - Age: Age-standardized (Percent)  \\\n",
       "0                                              0.454202                               \n",
       "1                                              0.447112                               \n",
       "2                                              0.441190                               \n",
       "3                                              0.435581                               \n",
       "4                                              0.431822                               \n",
       "...                                                 ...                               \n",
       "6835                                           0.599604                               \n",
       "6836                                           0.603658                               \n",
       "6837                                           0.608096                               \n",
       "6838                                           0.609065                               \n",
       "6839                                           0.610644                               \n",
       "\n",
       "      Prevalence - Depressive disorders - Sex: Both - Age: Age-standardized (Percent)  \\\n",
       "0                                              5.125291                                 \n",
       "1                                              5.116306                                 \n",
       "2                                              5.106558                                 \n",
       "3                                              5.100328                                 \n",
       "4                                              5.099424                                 \n",
       "...                                                 ...                                 \n",
       "6835                                           3.548613                                 \n",
       "6836                                           3.557508                                 \n",
       "6837                                           3.564138                                 \n",
       "6838                                           3.563141                                 \n",
       "6839                                           3.554571                                 \n",
       "\n",
       "      Prevalence - Alcohol use disorders - Sex: Both - Age: Age-standardized (Percent)  \n",
       "0                                              0.444036                                 \n",
       "1                                              0.444250                                 \n",
       "2                                              0.445501                                 \n",
       "3                                              0.445958                                 \n",
       "4                                              0.445779                                 \n",
       "...                                                 ...                                 \n",
       "6835                                           1.734969                                 \n",
       "6836                                           1.689281                                 \n",
       "6837                                           1.651805                                 \n",
       "6838                                           1.686711                                 \n",
       "6839                                           1.776729                                 \n",
       "\n",
       "[6840 rows x 10 columns]"
      ]
     },
     "execution_count": 3,
     "metadata": {},
     "output_type": "execute_result"
    }
   ],
   "source": [
    "#View Data\n",
    "mental_disorder_df"
   ]
  },
  {
   "cell_type": "code",
   "execution_count": 4,
   "metadata": {
    "scrolled": true
   },
   "outputs": [
    {
     "data": {
      "text/html": [
       "<div>\n",
       "<style scoped>\n",
       "    .dataframe tbody tr th:only-of-type {\n",
       "        vertical-align: middle;\n",
       "    }\n",
       "\n",
       "    .dataframe tbody tr th {\n",
       "        vertical-align: top;\n",
       "    }\n",
       "\n",
       "    .dataframe thead th {\n",
       "        text-align: right;\n",
       "    }\n",
       "</style>\n",
       "<table border=\"1\" class=\"dataframe\">\n",
       "  <thead>\n",
       "    <tr style=\"text-align: right;\">\n",
       "      <th></th>\n",
       "      <th>Entity</th>\n",
       "      <th>Code</th>\n",
       "      <th>Year</th>\n",
       "      <th>Prevalence - Schizophrenia - Sex: Both - Age: Age-standardized (Percent)</th>\n",
       "      <th>Prevalence - Bipolar disorder - Sex: Both - Age: Age-standardized (Percent)</th>\n",
       "      <th>Prevalence - Eating disorders - Sex: Both - Age: Age-standardized (Percent)</th>\n",
       "      <th>Prevalence - Anxiety disorders - Sex: Both - Age: Age-standardized (Percent)</th>\n",
       "      <th>Prevalence - Drug use disorders - Sex: Both - Age: Age-standardized (Percent)</th>\n",
       "      <th>Prevalence - Depressive disorders - Sex: Both - Age: Age-standardized (Percent)</th>\n",
       "      <th>Prevalence - Alcohol use disorders - Sex: Both - Age: Age-standardized (Percent)</th>\n",
       "    </tr>\n",
       "  </thead>\n",
       "  <tbody>\n",
       "    <tr>\n",
       "      <th>6330</th>\n",
       "      <td>United States</td>\n",
       "      <td>USA</td>\n",
       "      <td>1990</td>\n",
       "      <td>0.467115</td>\n",
       "      <td>0.649644</td>\n",
       "      <td>0.433047</td>\n",
       "      <td>5.617003</td>\n",
       "      <td>2.281317</td>\n",
       "      <td>4.068695</td>\n",
       "      <td>3.111360</td>\n",
       "    </tr>\n",
       "    <tr>\n",
       "      <th>6331</th>\n",
       "      <td>United States</td>\n",
       "      <td>USA</td>\n",
       "      <td>1991</td>\n",
       "      <td>0.472488</td>\n",
       "      <td>0.651606</td>\n",
       "      <td>0.450069</td>\n",
       "      <td>5.636548</td>\n",
       "      <td>2.316009</td>\n",
       "      <td>4.196610</td>\n",
       "      <td>3.022482</td>\n",
       "    </tr>\n",
       "    <tr>\n",
       "      <th>6332</th>\n",
       "      <td>United States</td>\n",
       "      <td>USA</td>\n",
       "      <td>1992</td>\n",
       "      <td>0.477502</td>\n",
       "      <td>0.653518</td>\n",
       "      <td>0.465582</td>\n",
       "      <td>5.661951</td>\n",
       "      <td>2.349570</td>\n",
       "      <td>4.323224</td>\n",
       "      <td>2.937071</td>\n",
       "    </tr>\n",
       "    <tr>\n",
       "      <th>6333</th>\n",
       "      <td>United States</td>\n",
       "      <td>USA</td>\n",
       "      <td>1993</td>\n",
       "      <td>0.481847</td>\n",
       "      <td>0.655238</td>\n",
       "      <td>0.478267</td>\n",
       "      <td>5.691142</td>\n",
       "      <td>2.381472</td>\n",
       "      <td>4.443956</td>\n",
       "      <td>2.858443</td>\n",
       "    </tr>\n",
       "    <tr>\n",
       "      <th>6334</th>\n",
       "      <td>United States</td>\n",
       "      <td>USA</td>\n",
       "      <td>1994</td>\n",
       "      <td>0.485216</td>\n",
       "      <td>0.656640</td>\n",
       "      <td>0.487285</td>\n",
       "      <td>5.722273</td>\n",
       "      <td>2.411349</td>\n",
       "      <td>4.554388</td>\n",
       "      <td>2.790028</td>\n",
       "    </tr>\n",
       "    <tr>\n",
       "      <th>...</th>\n",
       "      <td>...</td>\n",
       "      <td>...</td>\n",
       "      <td>...</td>\n",
       "      <td>...</td>\n",
       "      <td>...</td>\n",
       "      <td>...</td>\n",
       "      <td>...</td>\n",
       "      <td>...</td>\n",
       "      <td>...</td>\n",
       "      <td>...</td>\n",
       "    </tr>\n",
       "    <tr>\n",
       "      <th>6355</th>\n",
       "      <td>United States</td>\n",
       "      <td>USA</td>\n",
       "      <td>2015</td>\n",
       "      <td>0.479682</td>\n",
       "      <td>0.652400</td>\n",
       "      <td>0.454035</td>\n",
       "      <td>5.608664</td>\n",
       "      <td>3.456076</td>\n",
       "      <td>4.751602</td>\n",
       "      <td>2.517357</td>\n",
       "    </tr>\n",
       "    <tr>\n",
       "      <th>6356</th>\n",
       "      <td>United States</td>\n",
       "      <td>USA</td>\n",
       "      <td>2016</td>\n",
       "      <td>0.473109</td>\n",
       "      <td>0.652017</td>\n",
       "      <td>0.457696</td>\n",
       "      <td>5.602520</td>\n",
       "      <td>3.556867</td>\n",
       "      <td>4.740377</td>\n",
       "      <td>2.500322</td>\n",
       "    </tr>\n",
       "    <tr>\n",
       "      <th>6357</th>\n",
       "      <td>United States</td>\n",
       "      <td>USA</td>\n",
       "      <td>2017</td>\n",
       "      <td>0.467995</td>\n",
       "      <td>0.651626</td>\n",
       "      <td>0.461926</td>\n",
       "      <td>5.609053</td>\n",
       "      <td>3.637681</td>\n",
       "      <td>4.735252</td>\n",
       "      <td>2.484274</td>\n",
       "    </tr>\n",
       "    <tr>\n",
       "      <th>6358</th>\n",
       "      <td>United States</td>\n",
       "      <td>USA</td>\n",
       "      <td>2018</td>\n",
       "      <td>0.467770</td>\n",
       "      <td>0.651148</td>\n",
       "      <td>0.461494</td>\n",
       "      <td>5.785829</td>\n",
       "      <td>3.674890</td>\n",
       "      <td>4.732570</td>\n",
       "      <td>2.481960</td>\n",
       "    </tr>\n",
       "    <tr>\n",
       "      <th>6359</th>\n",
       "      <td>United States</td>\n",
       "      <td>USA</td>\n",
       "      <td>2019</td>\n",
       "      <td>0.469107</td>\n",
       "      <td>0.650464</td>\n",
       "      <td>0.459038</td>\n",
       "      <td>6.163564</td>\n",
       "      <td>3.699504</td>\n",
       "      <td>4.733761</td>\n",
       "      <td>2.490441</td>\n",
       "    </tr>\n",
       "  </tbody>\n",
       "</table>\n",
       "<p>30 rows × 10 columns</p>\n",
       "</div>"
      ],
      "text/plain": [
       "             Entity Code  Year  \\\n",
       "6330  United States  USA  1990   \n",
       "6331  United States  USA  1991   \n",
       "6332  United States  USA  1992   \n",
       "6333  United States  USA  1993   \n",
       "6334  United States  USA  1994   \n",
       "...             ...  ...   ...   \n",
       "6355  United States  USA  2015   \n",
       "6356  United States  USA  2016   \n",
       "6357  United States  USA  2017   \n",
       "6358  United States  USA  2018   \n",
       "6359  United States  USA  2019   \n",
       "\n",
       "      Prevalence - Schizophrenia - Sex: Both - Age: Age-standardized (Percent)  \\\n",
       "6330                                           0.467115                          \n",
       "6331                                           0.472488                          \n",
       "6332                                           0.477502                          \n",
       "6333                                           0.481847                          \n",
       "6334                                           0.485216                          \n",
       "...                                                 ...                          \n",
       "6355                                           0.479682                          \n",
       "6356                                           0.473109                          \n",
       "6357                                           0.467995                          \n",
       "6358                                           0.467770                          \n",
       "6359                                           0.469107                          \n",
       "\n",
       "      Prevalence - Bipolar disorder - Sex: Both - Age: Age-standardized (Percent)  \\\n",
       "6330                                           0.649644                             \n",
       "6331                                           0.651606                             \n",
       "6332                                           0.653518                             \n",
       "6333                                           0.655238                             \n",
       "6334                                           0.656640                             \n",
       "...                                                 ...                             \n",
       "6355                                           0.652400                             \n",
       "6356                                           0.652017                             \n",
       "6357                                           0.651626                             \n",
       "6358                                           0.651148                             \n",
       "6359                                           0.650464                             \n",
       "\n",
       "      Prevalence - Eating disorders - Sex: Both - Age: Age-standardized (Percent)  \\\n",
       "6330                                           0.433047                             \n",
       "6331                                           0.450069                             \n",
       "6332                                           0.465582                             \n",
       "6333                                           0.478267                             \n",
       "6334                                           0.487285                             \n",
       "...                                                 ...                             \n",
       "6355                                           0.454035                             \n",
       "6356                                           0.457696                             \n",
       "6357                                           0.461926                             \n",
       "6358                                           0.461494                             \n",
       "6359                                           0.459038                             \n",
       "\n",
       "      Prevalence - Anxiety disorders - Sex: Both - Age: Age-standardized (Percent)  \\\n",
       "6330                                           5.617003                              \n",
       "6331                                           5.636548                              \n",
       "6332                                           5.661951                              \n",
       "6333                                           5.691142                              \n",
       "6334                                           5.722273                              \n",
       "...                                                 ...                              \n",
       "6355                                           5.608664                              \n",
       "6356                                           5.602520                              \n",
       "6357                                           5.609053                              \n",
       "6358                                           5.785829                              \n",
       "6359                                           6.163564                              \n",
       "\n",
       "      Prevalence - Drug use disorders - Sex: Both - Age: Age-standardized (Percent)  \\\n",
       "6330                                           2.281317                               \n",
       "6331                                           2.316009                               \n",
       "6332                                           2.349570                               \n",
       "6333                                           2.381472                               \n",
       "6334                                           2.411349                               \n",
       "...                                                 ...                               \n",
       "6355                                           3.456076                               \n",
       "6356                                           3.556867                               \n",
       "6357                                           3.637681                               \n",
       "6358                                           3.674890                               \n",
       "6359                                           3.699504                               \n",
       "\n",
       "      Prevalence - Depressive disorders - Sex: Both - Age: Age-standardized (Percent)  \\\n",
       "6330                                           4.068695                                 \n",
       "6331                                           4.196610                                 \n",
       "6332                                           4.323224                                 \n",
       "6333                                           4.443956                                 \n",
       "6334                                           4.554388                                 \n",
       "...                                                 ...                                 \n",
       "6355                                           4.751602                                 \n",
       "6356                                           4.740377                                 \n",
       "6357                                           4.735252                                 \n",
       "6358                                           4.732570                                 \n",
       "6359                                           4.733761                                 \n",
       "\n",
       "      Prevalence - Alcohol use disorders - Sex: Both - Age: Age-standardized (Percent)  \n",
       "6330                                           3.111360                                 \n",
       "6331                                           3.022482                                 \n",
       "6332                                           2.937071                                 \n",
       "6333                                           2.858443                                 \n",
       "6334                                           2.790028                                 \n",
       "...                                                 ...                                 \n",
       "6355                                           2.517357                                 \n",
       "6356                                           2.500322                                 \n",
       "6357                                           2.484274                                 \n",
       "6358                                           2.481960                                 \n",
       "6359                                           2.490441                                 \n",
       "\n",
       "[30 rows x 10 columns]"
      ]
     },
     "execution_count": 4,
     "metadata": {},
     "output_type": "execute_result"
    }
   ],
   "source": [
    "#Isolate only the U.S. Data\n",
    "us_df = mental_disorder_df.loc[mental_disorder_df['Entity'] == 'United States']\n",
    "us_df"
   ]
  },
  {
   "cell_type": "code",
   "execution_count": 5,
   "metadata": {},
   "outputs": [],
   "source": [
    "#Set Index to the year\n",
    "us_df = us_df.set_index(pd.to_datetime(us_df['Year'], exact = False, format = \"%Y\"), drop = True)"
   ]
  },
  {
   "cell_type": "code",
   "execution_count": 6,
   "metadata": {
    "scrolled": true
   },
   "outputs": [
    {
     "data": {
      "text/html": [
       "<div>\n",
       "<style scoped>\n",
       "    .dataframe tbody tr th:only-of-type {\n",
       "        vertical-align: middle;\n",
       "    }\n",
       "\n",
       "    .dataframe tbody tr th {\n",
       "        vertical-align: top;\n",
       "    }\n",
       "\n",
       "    .dataframe thead th {\n",
       "        text-align: right;\n",
       "    }\n",
       "</style>\n",
       "<table border=\"1\" class=\"dataframe\">\n",
       "  <thead>\n",
       "    <tr style=\"text-align: right;\">\n",
       "      <th></th>\n",
       "      <th>Entity</th>\n",
       "      <th>Code</th>\n",
       "      <th>Prevalence - Schizophrenia - Sex: Both - Age: Age-standardized (Percent)</th>\n",
       "      <th>Prevalence - Bipolar disorder - Sex: Both - Age: Age-standardized (Percent)</th>\n",
       "      <th>Prevalence - Eating disorders - Sex: Both - Age: Age-standardized (Percent)</th>\n",
       "      <th>Prevalence - Anxiety disorders - Sex: Both - Age: Age-standardized (Percent)</th>\n",
       "      <th>Prevalence - Drug use disorders - Sex: Both - Age: Age-standardized (Percent)</th>\n",
       "      <th>Prevalence - Depressive disorders - Sex: Both - Age: Age-standardized (Percent)</th>\n",
       "      <th>Prevalence - Alcohol use disorders - Sex: Both - Age: Age-standardized (Percent)</th>\n",
       "    </tr>\n",
       "    <tr>\n",
       "      <th>Year</th>\n",
       "      <th></th>\n",
       "      <th></th>\n",
       "      <th></th>\n",
       "      <th></th>\n",
       "      <th></th>\n",
       "      <th></th>\n",
       "      <th></th>\n",
       "      <th></th>\n",
       "      <th></th>\n",
       "    </tr>\n",
       "  </thead>\n",
       "  <tbody>\n",
       "    <tr>\n",
       "      <th>1990-01-01</th>\n",
       "      <td>United States</td>\n",
       "      <td>USA</td>\n",
       "      <td>0.467115</td>\n",
       "      <td>0.649644</td>\n",
       "      <td>0.433047</td>\n",
       "      <td>5.617003</td>\n",
       "      <td>2.281317</td>\n",
       "      <td>4.068695</td>\n",
       "      <td>3.111360</td>\n",
       "    </tr>\n",
       "    <tr>\n",
       "      <th>1991-01-01</th>\n",
       "      <td>United States</td>\n",
       "      <td>USA</td>\n",
       "      <td>0.472488</td>\n",
       "      <td>0.651606</td>\n",
       "      <td>0.450069</td>\n",
       "      <td>5.636548</td>\n",
       "      <td>2.316009</td>\n",
       "      <td>4.196610</td>\n",
       "      <td>3.022482</td>\n",
       "    </tr>\n",
       "    <tr>\n",
       "      <th>1992-01-01</th>\n",
       "      <td>United States</td>\n",
       "      <td>USA</td>\n",
       "      <td>0.477502</td>\n",
       "      <td>0.653518</td>\n",
       "      <td>0.465582</td>\n",
       "      <td>5.661951</td>\n",
       "      <td>2.349570</td>\n",
       "      <td>4.323224</td>\n",
       "      <td>2.937071</td>\n",
       "    </tr>\n",
       "    <tr>\n",
       "      <th>1993-01-01</th>\n",
       "      <td>United States</td>\n",
       "      <td>USA</td>\n",
       "      <td>0.481847</td>\n",
       "      <td>0.655238</td>\n",
       "      <td>0.478267</td>\n",
       "      <td>5.691142</td>\n",
       "      <td>2.381472</td>\n",
       "      <td>4.443956</td>\n",
       "      <td>2.858443</td>\n",
       "    </tr>\n",
       "    <tr>\n",
       "      <th>1994-01-01</th>\n",
       "      <td>United States</td>\n",
       "      <td>USA</td>\n",
       "      <td>0.485216</td>\n",
       "      <td>0.656640</td>\n",
       "      <td>0.487285</td>\n",
       "      <td>5.722273</td>\n",
       "      <td>2.411349</td>\n",
       "      <td>4.554388</td>\n",
       "      <td>2.790028</td>\n",
       "    </tr>\n",
       "    <tr>\n",
       "      <th>...</th>\n",
       "      <td>...</td>\n",
       "      <td>...</td>\n",
       "      <td>...</td>\n",
       "      <td>...</td>\n",
       "      <td>...</td>\n",
       "      <td>...</td>\n",
       "      <td>...</td>\n",
       "      <td>...</td>\n",
       "      <td>...</td>\n",
       "    </tr>\n",
       "    <tr>\n",
       "      <th>2015-01-01</th>\n",
       "      <td>United States</td>\n",
       "      <td>USA</td>\n",
       "      <td>0.479682</td>\n",
       "      <td>0.652400</td>\n",
       "      <td>0.454035</td>\n",
       "      <td>5.608664</td>\n",
       "      <td>3.456076</td>\n",
       "      <td>4.751602</td>\n",
       "      <td>2.517357</td>\n",
       "    </tr>\n",
       "    <tr>\n",
       "      <th>2016-01-01</th>\n",
       "      <td>United States</td>\n",
       "      <td>USA</td>\n",
       "      <td>0.473109</td>\n",
       "      <td>0.652017</td>\n",
       "      <td>0.457696</td>\n",
       "      <td>5.602520</td>\n",
       "      <td>3.556867</td>\n",
       "      <td>4.740377</td>\n",
       "      <td>2.500322</td>\n",
       "    </tr>\n",
       "    <tr>\n",
       "      <th>2017-01-01</th>\n",
       "      <td>United States</td>\n",
       "      <td>USA</td>\n",
       "      <td>0.467995</td>\n",
       "      <td>0.651626</td>\n",
       "      <td>0.461926</td>\n",
       "      <td>5.609053</td>\n",
       "      <td>3.637681</td>\n",
       "      <td>4.735252</td>\n",
       "      <td>2.484274</td>\n",
       "    </tr>\n",
       "    <tr>\n",
       "      <th>2018-01-01</th>\n",
       "      <td>United States</td>\n",
       "      <td>USA</td>\n",
       "      <td>0.467770</td>\n",
       "      <td>0.651148</td>\n",
       "      <td>0.461494</td>\n",
       "      <td>5.785829</td>\n",
       "      <td>3.674890</td>\n",
       "      <td>4.732570</td>\n",
       "      <td>2.481960</td>\n",
       "    </tr>\n",
       "    <tr>\n",
       "      <th>2019-01-01</th>\n",
       "      <td>United States</td>\n",
       "      <td>USA</td>\n",
       "      <td>0.469107</td>\n",
       "      <td>0.650464</td>\n",
       "      <td>0.459038</td>\n",
       "      <td>6.163564</td>\n",
       "      <td>3.699504</td>\n",
       "      <td>4.733761</td>\n",
       "      <td>2.490441</td>\n",
       "    </tr>\n",
       "  </tbody>\n",
       "</table>\n",
       "<p>30 rows × 9 columns</p>\n",
       "</div>"
      ],
      "text/plain": [
       "                   Entity Code  \\\n",
       "Year                             \n",
       "1990-01-01  United States  USA   \n",
       "1991-01-01  United States  USA   \n",
       "1992-01-01  United States  USA   \n",
       "1993-01-01  United States  USA   \n",
       "1994-01-01  United States  USA   \n",
       "...                   ...  ...   \n",
       "2015-01-01  United States  USA   \n",
       "2016-01-01  United States  USA   \n",
       "2017-01-01  United States  USA   \n",
       "2018-01-01  United States  USA   \n",
       "2019-01-01  United States  USA   \n",
       "\n",
       "            Prevalence - Schizophrenia - Sex: Both - Age: Age-standardized (Percent)  \\\n",
       "Year                                                                                   \n",
       "1990-01-01                                           0.467115                          \n",
       "1991-01-01                                           0.472488                          \n",
       "1992-01-01                                           0.477502                          \n",
       "1993-01-01                                           0.481847                          \n",
       "1994-01-01                                           0.485216                          \n",
       "...                                                       ...                          \n",
       "2015-01-01                                           0.479682                          \n",
       "2016-01-01                                           0.473109                          \n",
       "2017-01-01                                           0.467995                          \n",
       "2018-01-01                                           0.467770                          \n",
       "2019-01-01                                           0.469107                          \n",
       "\n",
       "            Prevalence - Bipolar disorder - Sex: Both - Age: Age-standardized (Percent)  \\\n",
       "Year                                                                                      \n",
       "1990-01-01                                           0.649644                             \n",
       "1991-01-01                                           0.651606                             \n",
       "1992-01-01                                           0.653518                             \n",
       "1993-01-01                                           0.655238                             \n",
       "1994-01-01                                           0.656640                             \n",
       "...                                                       ...                             \n",
       "2015-01-01                                           0.652400                             \n",
       "2016-01-01                                           0.652017                             \n",
       "2017-01-01                                           0.651626                             \n",
       "2018-01-01                                           0.651148                             \n",
       "2019-01-01                                           0.650464                             \n",
       "\n",
       "            Prevalence - Eating disorders - Sex: Both - Age: Age-standardized (Percent)  \\\n",
       "Year                                                                                      \n",
       "1990-01-01                                           0.433047                             \n",
       "1991-01-01                                           0.450069                             \n",
       "1992-01-01                                           0.465582                             \n",
       "1993-01-01                                           0.478267                             \n",
       "1994-01-01                                           0.487285                             \n",
       "...                                                       ...                             \n",
       "2015-01-01                                           0.454035                             \n",
       "2016-01-01                                           0.457696                             \n",
       "2017-01-01                                           0.461926                             \n",
       "2018-01-01                                           0.461494                             \n",
       "2019-01-01                                           0.459038                             \n",
       "\n",
       "            Prevalence - Anxiety disorders - Sex: Both - Age: Age-standardized (Percent)  \\\n",
       "Year                                                                                       \n",
       "1990-01-01                                           5.617003                              \n",
       "1991-01-01                                           5.636548                              \n",
       "1992-01-01                                           5.661951                              \n",
       "1993-01-01                                           5.691142                              \n",
       "1994-01-01                                           5.722273                              \n",
       "...                                                       ...                              \n",
       "2015-01-01                                           5.608664                              \n",
       "2016-01-01                                           5.602520                              \n",
       "2017-01-01                                           5.609053                              \n",
       "2018-01-01                                           5.785829                              \n",
       "2019-01-01                                           6.163564                              \n",
       "\n",
       "            Prevalence - Drug use disorders - Sex: Both - Age: Age-standardized (Percent)  \\\n",
       "Year                                                                                        \n",
       "1990-01-01                                           2.281317                               \n",
       "1991-01-01                                           2.316009                               \n",
       "1992-01-01                                           2.349570                               \n",
       "1993-01-01                                           2.381472                               \n",
       "1994-01-01                                           2.411349                               \n",
       "...                                                       ...                               \n",
       "2015-01-01                                           3.456076                               \n",
       "2016-01-01                                           3.556867                               \n",
       "2017-01-01                                           3.637681                               \n",
       "2018-01-01                                           3.674890                               \n",
       "2019-01-01                                           3.699504                               \n",
       "\n",
       "            Prevalence - Depressive disorders - Sex: Both - Age: Age-standardized (Percent)  \\\n",
       "Year                                                                                          \n",
       "1990-01-01                                           4.068695                                 \n",
       "1991-01-01                                           4.196610                                 \n",
       "1992-01-01                                           4.323224                                 \n",
       "1993-01-01                                           4.443956                                 \n",
       "1994-01-01                                           4.554388                                 \n",
       "...                                                       ...                                 \n",
       "2015-01-01                                           4.751602                                 \n",
       "2016-01-01                                           4.740377                                 \n",
       "2017-01-01                                           4.735252                                 \n",
       "2018-01-01                                           4.732570                                 \n",
       "2019-01-01                                           4.733761                                 \n",
       "\n",
       "            Prevalence - Alcohol use disorders - Sex: Both - Age: Age-standardized (Percent)  \n",
       "Year                                                                                          \n",
       "1990-01-01                                           3.111360                                 \n",
       "1991-01-01                                           3.022482                                 \n",
       "1992-01-01                                           2.937071                                 \n",
       "1993-01-01                                           2.858443                                 \n",
       "1994-01-01                                           2.790028                                 \n",
       "...                                                       ...                                 \n",
       "2015-01-01                                           2.517357                                 \n",
       "2016-01-01                                           2.500322                                 \n",
       "2017-01-01                                           2.484274                                 \n",
       "2018-01-01                                           2.481960                                 \n",
       "2019-01-01                                           2.490441                                 \n",
       "\n",
       "[30 rows x 9 columns]"
      ]
     },
     "execution_count": 6,
     "metadata": {},
     "output_type": "execute_result"
    }
   ],
   "source": [
    "us_df.drop(columns = 'Year', inplace = True)\n",
    "us_df"
   ]
  },
  {
   "cell_type": "code",
   "execution_count": 7,
   "metadata": {},
   "outputs": [
    {
     "data": {
      "text/plain": [
       "<AxesSubplot:xlabel='Year'>"
      ]
     },
     "execution_count": 7,
     "metadata": {},
     "output_type": "execute_result"
    },
    {
     "data": {
      "image/png": "[encoded data removed]",
      "text/plain": [
       "<Figure size 1440x1008 with 1 Axes>"
      ]
     },
     "metadata": {},
     "output_type": "display_data"
    }
   ],
   "source": [
    "#Graph the diseases to see if there are any obvious trends\n",
    "us_df.plot(figsize=(20, 14), linewidth=2, fontsize=14)\n"
   ]
  },
  {
   "cell_type": "code",
   "execution_count": 8,
   "metadata": {},
   "outputs": [],
   "source": [
    "#Rename the Depression Disorders column\n",
    "us_df['Depression_Rates'] = us_df['Prevalence - Depressive disorders - Sex: Both - Age: Age-standardized (Percent)']"
   ]
  },
  {
   "cell_type": "code",
   "execution_count": 9,
   "metadata": {},
   "outputs": [
    {
     "data": {
      "text/html": [
       "<div>\n",
       "<style scoped>\n",
       "    .dataframe tbody tr th:only-of-type {\n",
       "        vertical-align: middle;\n",
       "    }\n",
       "\n",
       "    .dataframe tbody tr th {\n",
       "        vertical-align: top;\n",
       "    }\n",
       "\n",
       "    .dataframe thead th {\n",
       "        text-align: right;\n",
       "    }\n",
       "</style>\n",
       "<table border=\"1\" class=\"dataframe\">\n",
       "  <thead>\n",
       "    <tr style=\"text-align: right;\">\n",
       "      <th></th>\n",
       "      <th>Entity</th>\n",
       "      <th>Code</th>\n",
       "      <th>Prevalence - Schizophrenia - Sex: Both - Age: Age-standardized (Percent)</th>\n",
       "      <th>Prevalence - Bipolar disorder - Sex: Both - Age: Age-standardized (Percent)</th>\n",
       "      <th>Prevalence - Eating disorders - Sex: Both - Age: Age-standardized (Percent)</th>\n",
       "      <th>Prevalence - Anxiety disorders - Sex: Both - Age: Age-standardized (Percent)</th>\n",
       "      <th>Prevalence - Drug use disorders - Sex: Both - Age: Age-standardized (Percent)</th>\n",
       "      <th>Prevalence - Depressive disorders - Sex: Both - Age: Age-standardized (Percent)</th>\n",
       "      <th>Prevalence - Alcohol use disorders - Sex: Both - Age: Age-standardized (Percent)</th>\n",
       "      <th>Depression_Rates</th>\n",
       "    </tr>\n",
       "    <tr>\n",
       "      <th>Year</th>\n",
       "      <th></th>\n",
       "      <th></th>\n",
       "      <th></th>\n",
       "      <th></th>\n",
       "      <th></th>\n",
       "      <th></th>\n",
       "      <th></th>\n",
       "      <th></th>\n",
       "      <th></th>\n",
       "      <th></th>\n",
       "    </tr>\n",
       "  </thead>\n",
       "  <tbody>\n",
       "    <tr>\n",
       "      <th>1990-01-01</th>\n",
       "      <td>United States</td>\n",
       "      <td>USA</td>\n",
       "      <td>0.467115</td>\n",
       "      <td>0.649644</td>\n",
       "      <td>0.433047</td>\n",
       "      <td>5.617003</td>\n",
       "      <td>2.281317</td>\n",
       "      <td>4.068695</td>\n",
       "      <td>3.111360</td>\n",
       "      <td>4.068695</td>\n",
       "    </tr>\n",
       "    <tr>\n",
       "      <th>1991-01-01</th>\n",
       "      <td>United States</td>\n",
       "      <td>USA</td>\n",
       "      <td>0.472488</td>\n",
       "      <td>0.651606</td>\n",
       "      <td>0.450069</td>\n",
       "      <td>5.636548</td>\n",
       "      <td>2.316009</td>\n",
       "      <td>4.196610</td>\n",
       "      <td>3.022482</td>\n",
       "      <td>4.196610</td>\n",
       "    </tr>\n",
       "    <tr>\n",
       "      <th>1992-01-01</th>\n",
       "      <td>United States</td>\n",
       "      <td>USA</td>\n",
       "      <td>0.477502</td>\n",
       "      <td>0.653518</td>\n",
       "      <td>0.465582</td>\n",
       "      <td>5.661951</td>\n",
       "      <td>2.349570</td>\n",
       "      <td>4.323224</td>\n",
       "      <td>2.937071</td>\n",
       "      <td>4.323224</td>\n",
       "    </tr>\n",
       "    <tr>\n",
       "      <th>1993-01-01</th>\n",
       "      <td>United States</td>\n",
       "      <td>USA</td>\n",
       "      <td>0.481847</td>\n",
       "      <td>0.655238</td>\n",
       "      <td>0.478267</td>\n",
       "      <td>5.691142</td>\n",
       "      <td>2.381472</td>\n",
       "      <td>4.443956</td>\n",
       "      <td>2.858443</td>\n",
       "      <td>4.443956</td>\n",
       "    </tr>\n",
       "    <tr>\n",
       "      <th>1994-01-01</th>\n",
       "      <td>United States</td>\n",
       "      <td>USA</td>\n",
       "      <td>0.485216</td>\n",
       "      <td>0.656640</td>\n",
       "      <td>0.487285</td>\n",
       "      <td>5.722273</td>\n",
       "      <td>2.411349</td>\n",
       "      <td>4.554388</td>\n",
       "      <td>2.790028</td>\n",
       "      <td>4.554388</td>\n",
       "    </tr>\n",
       "    <tr>\n",
       "      <th>...</th>\n",
       "      <td>...</td>\n",
       "      <td>...</td>\n",
       "      <td>...</td>\n",
       "      <td>...</td>\n",
       "      <td>...</td>\n",
       "      <td>...</td>\n",
       "      <td>...</td>\n",
       "      <td>...</td>\n",
       "      <td>...</td>\n",
       "      <td>...</td>\n",
       "    </tr>\n",
       "    <tr>\n",
       "      <th>2015-01-01</th>\n",
       "      <td>United States</td>\n",
       "      <td>USA</td>\n",
       "      <td>0.479682</td>\n",
       "      <td>0.652400</td>\n",
       "      <td>0.454035</td>\n",
       "      <td>5.608664</td>\n",
       "      <td>3.456076</td>\n",
       "      <td>4.751602</td>\n",
       "      <td>2.517357</td>\n",
       "      <td>4.751602</td>\n",
       "    </tr>\n",
       "    <tr>\n",
       "      <th>2016-01-01</th>\n",
       "      <td>United States</td>\n",
       "      <td>USA</td>\n",
       "      <td>0.473109</td>\n",
       "      <td>0.652017</td>\n",
       "      <td>0.457696</td>\n",
       "      <td>5.602520</td>\n",
       "      <td>3.556867</td>\n",
       "      <td>4.740377</td>\n",
       "      <td>2.500322</td>\n",
       "      <td>4.740377</td>\n",
       "    </tr>\n",
       "    <tr>\n",
       "      <th>2017-01-01</th>\n",
       "      <td>United States</td>\n",
       "      <td>USA</td>\n",
       "      <td>0.467995</td>\n",
       "      <td>0.651626</td>\n",
       "      <td>0.461926</td>\n",
       "      <td>5.609053</td>\n",
       "      <td>3.637681</td>\n",
       "      <td>4.735252</td>\n",
       "      <td>2.484274</td>\n",
       "      <td>4.735252</td>\n",
       "    </tr>\n",
       "    <tr>\n",
       "      <th>2018-01-01</th>\n",
       "      <td>United States</td>\n",
       "      <td>USA</td>\n",
       "      <td>0.467770</td>\n",
       "      <td>0.651148</td>\n",
       "      <td>0.461494</td>\n",
       "      <td>5.785829</td>\n",
       "      <td>3.674890</td>\n",
       "      <td>4.732570</td>\n",
       "      <td>2.481960</td>\n",
       "      <td>4.732570</td>\n",
       "    </tr>\n",
       "    <tr>\n",
       "      <th>2019-01-01</th>\n",
       "      <td>United States</td>\n",
       "      <td>USA</td>\n",
       "      <td>0.469107</td>\n",
       "      <td>0.650464</td>\n",
       "      <td>0.459038</td>\n",
       "      <td>6.163564</td>\n",
       "      <td>3.699504</td>\n",
       "      <td>4.733761</td>\n",
       "      <td>2.490441</td>\n",
       "      <td>4.733761</td>\n",
       "    </tr>\n",
       "  </tbody>\n",
       "</table>\n",
       "<p>30 rows × 10 columns</p>\n",
       "</div>"
      ],
      "text/plain": [
       "                   Entity Code  \\\n",
       "Year                             \n",
       "1990-01-01  United States  USA   \n",
       "1991-01-01  United States  USA   \n",
       "1992-01-01  United States  USA   \n",
       "1993-01-01  United States  USA   \n",
       "1994-01-01  United States  USA   \n",
       "...                   ...  ...   \n",
       "2015-01-01  United States  USA   \n",
       "2016-01-01  United States  USA   \n",
       "2017-01-01  United States  USA   \n",
       "2018-01-01  United States  USA   \n",
       "2019-01-01  United States  USA   \n",
       "\n",
       "            Prevalence - Schizophrenia - Sex: Both - Age: Age-standardized (Percent)  \\\n",
       "Year                                                                                   \n",
       "1990-01-01                                           0.467115                          \n",
       "1991-01-01                                           0.472488                          \n",
       "1992-01-01                                           0.477502                          \n",
       "1993-01-01                                           0.481847                          \n",
       "1994-01-01                                           0.485216                          \n",
       "...                                                       ...                          \n",
       "2015-01-01                                           0.479682                          \n",
       "2016-01-01                                           0.473109                          \n",
       "2017-01-01                                           0.467995                          \n",
       "2018-01-01                                           0.467770                          \n",
       "2019-01-01                                           0.469107                          \n",
       "\n",
       "            Prevalence - Bipolar disorder - Sex: Both - Age: Age-standardized (Percent)  \\\n",
       "Year                                                                                      \n",
       "1990-01-01                                           0.649644                             \n",
       "1991-01-01                                           0.651606                             \n",
       "1992-01-01                                           0.653518                             \n",
       "1993-01-01                                           0.655238                             \n",
       "1994-01-01                                           0.656640                             \n",
       "...                                                       ...                             \n",
       "2015-01-01                                           0.652400                             \n",
       "2016-01-01                                           0.652017                             \n",
       "2017-01-01                                           0.651626                             \n",
       "2018-01-01                                           0.651148                             \n",
       "2019-01-01                                           0.650464                             \n",
       "\n",
       "            Prevalence - Eating disorders - Sex: Both - Age: Age-standardized (Percent)  \\\n",
       "Year                                                                                      \n",
       "1990-01-01                                           0.433047                             \n",
       "1991-01-01                                           0.450069                             \n",
       "1992-01-01                                           0.465582                             \n",
       "1993-01-01                                           0.478267                             \n",
       "1994-01-01                                           0.487285                             \n",
       "...                                                       ...                             \n",
       "2015-01-01                                           0.454035                             \n",
       "2016-01-01                                           0.457696                             \n",
       "2017-01-01                                           0.461926                             \n",
       "2018-01-01                                           0.461494                             \n",
       "2019-01-01                                           0.459038                             \n",
       "\n",
       "            Prevalence - Anxiety disorders - Sex: Both - Age: Age-standardized (Percent)  \\\n",
       "Year                                                                                       \n",
       "1990-01-01                                           5.617003                              \n",
       "1991-01-01                                           5.636548                              \n",
       "1992-01-01                                           5.661951                              \n",
       "1993-01-01                                           5.691142                              \n",
       "1994-01-01                                           5.722273                              \n",
       "...                                                       ...                              \n",
       "2015-01-01                                           5.608664                              \n",
       "2016-01-01                                           5.602520                              \n",
       "2017-01-01                                           5.609053                              \n",
       "2018-01-01                                           5.785829                              \n",
       "2019-01-01                                           6.163564                              \n",
       "\n",
       "            Prevalence - Drug use disorders - Sex: Both - Age: Age-standardized (Percent)  \\\n",
       "Year                                                                                        \n",
       "1990-01-01                                           2.281317                               \n",
       "1991-01-01                                           2.316009                               \n",
       "1992-01-01                                           2.349570                               \n",
       "1993-01-01                                           2.381472                               \n",
       "1994-01-01                                           2.411349                               \n",
       "...                                                       ...                               \n",
       "2015-01-01                                           3.456076                               \n",
       "2016-01-01                                           3.556867                               \n",
       "2017-01-01                                           3.637681                               \n",
       "2018-01-01                                           3.674890                               \n",
       "2019-01-01                                           3.699504                               \n",
       "\n",
       "            Prevalence - Depressive disorders - Sex: Both - Age: Age-standardized (Percent)  \\\n",
       "Year                                                                                          \n",
       "1990-01-01                                           4.068695                                 \n",
       "1991-01-01                                           4.196610                                 \n",
       "1992-01-01                                           4.323224                                 \n",
       "1993-01-01                                           4.443956                                 \n",
       "1994-01-01                                           4.554388                                 \n",
       "...                                                       ...                                 \n",
       "2015-01-01                                           4.751602                                 \n",
       "2016-01-01                                           4.740377                                 \n",
       "2017-01-01                                           4.735252                                 \n",
       "2018-01-01                                           4.732570                                 \n",
       "2019-01-01                                           4.733761                                 \n",
       "\n",
       "            Prevalence - Alcohol use disorders - Sex: Both - Age: Age-standardized (Percent)  \\\n",
       "Year                                                                                           \n",
       "1990-01-01                                           3.111360                                  \n",
       "1991-01-01                                           3.022482                                  \n",
       "1992-01-01                                           2.937071                                  \n",
       "1993-01-01                                           2.858443                                  \n",
       "1994-01-01                                           2.790028                                  \n",
       "...                                                       ...                                  \n",
       "2015-01-01                                           2.517357                                  \n",
       "2016-01-01                                           2.500322                                  \n",
       "2017-01-01                                           2.484274                                  \n",
       "2018-01-01                                           2.481960                                  \n",
       "2019-01-01                                           2.490441                                  \n",
       "\n",
       "            Depression_Rates  \n",
       "Year                          \n",
       "1990-01-01          4.068695  \n",
       "1991-01-01          4.196610  \n",
       "1992-01-01          4.323224  \n",
       "1993-01-01          4.443956  \n",
       "1994-01-01          4.554388  \n",
       "...                      ...  \n",
       "2015-01-01          4.751602  \n",
       "2016-01-01          4.740377  \n",
       "2017-01-01          4.735252  \n",
       "2018-01-01          4.732570  \n",
       "2019-01-01          4.733761  \n",
       "\n",
       "[30 rows x 10 columns]"
      ]
     },
     "execution_count": 9,
     "metadata": {},
     "output_type": "execute_result"
    }
   ],
   "source": [
    "#Sanity Check\n",
    "us_df"
   ]
  },
  {
   "cell_type": "code",
   "execution_count": 10,
   "metadata": {},
   "outputs": [
    {
     "data": {
      "text/plain": [
       "<AxesSubplot:title={'center':'U.S. Depression Rates Over Time'}, xlabel='Year', ylabel='Depression Rates'>"
      ]
     },
     "execution_count": 10,
     "metadata": {},
     "output_type": "execute_result"
    },
    {
     "data": {
      "image/png": "[encoded data removed]",
      "text/plain": [
       "<Figure size 720x504 with 1 Axes>"
      ]
     },
     "metadata": {},
     "output_type": "display_data"
    }
   ],
   "source": [
    "#Graph Only the Depression Rate\n",
    "us_depression_rates= us_df['Depression_Rates']\n",
    "us_depression_rates.plot(figsize=(10, 7), linewidth=2, fontsize=18, xlabel = None\n",
    "                         , ylabel = \"Depression Rates\", title = \"U.S. Depression Rates Over Time\",\n",
    "                         color = '#21758b',  )"
   ]
  },
  {
   "cell_type": "code",
   "execution_count": 11,
   "metadata": {},
   "outputs": [
    {
     "data": {
      "text/plain": [
       "Test Statistic                 -1.613473\n",
       "p-value                         0.476153\n",
       "#Lags Used                      9.000000\n",
       "Number of Observations Used    20.000000\n",
       "Critical Value (1%)            -3.809209\n",
       "Critical Value (5%)            -3.021645\n",
       "Critical Value (10%)           -2.650713\n",
       "dtype: float64"
      ]
     },
     "metadata": {},
     "output_type": "display_data"
    }
   ],
   "source": [
    "#Use a Dicky-Fuller Test to test for stationarity\n",
    "dftest = adfuller(us_depression_rates)\n",
    "\n",
    "#Make the output look better\n",
    "dfoutput = pd.Series(\n",
    "                dftest[0:4], \n",
    "                index=['Test Statistic','p-value','#Lags Used','Number of Observations Used']\n",
    ")\n",
    "\n",
    "for key,value in dftest[4].items():\n",
    "    dfoutput['Critical Value (%s)'%key] = value\n",
    "    \n",
    "display(dfoutput)"
   ]
  },
  {
   "cell_type": "code",
   "execution_count": 12,
   "metadata": {},
   "outputs": [],
   "source": [
    "data_transform = pd.Series(np.log(us_depression_rates))"
   ]
  },
  {
   "cell_type": "code",
   "execution_count": 14,
   "metadata": {},
   "outputs": [
    {
     "data": {
      "image/png": "[encoded data removed]",
      "text/plain": [
       "<Figure size 792x504 with 1 Axes>"
      ]
     },
     "metadata": {},
     "output_type": "display_data"
    }
   ],
   "source": [
    "# Start with the square root transform to increase stationarity\n",
    "data_transform = pd.Series(np.log(us_depression_rates))\n",
    "#Subtract the rolling mean to increase stationarity\n",
    "rolmean = data_transform.ewm(span = 4, min_periods = 4, adjust = False).mean()\n",
    "fig = plt.figure(figsize=(11, 7))\n",
    "orig = plt.plot(data_transform, color='blue', label='Original')\n",
    "mean = plt.plot(rolmean, color='red', label='Rolling Mean')\n",
    "plt.legend(loc='best')\n",
    "plt.title('Rolling Mean & Standard Deviation')\n",
    "plt.show(block=False)\n",
    "# Subtract the moving average from the original data and check head for Nans\n",
    "data_minus_rolmean = data_transform - rolmean\n",
    "data_minus_rolmean\n",
    "# Drop the NaN values from timeseries calculated above \n",
    "# (the first few values didn't have a rolling mean)\n",
    "data_minus_rolmean.dropna(inplace=True)"
   ]
  },
  {
   "cell_type": "code",
   "execution_count": 15,
   "metadata": {},
   "outputs": [],
   "source": [
    "#Subtract the roling mean from above and drop null values\n",
    "data_minus_rolmean = data_transform - rolmean\n",
    "data_minus_rolmean\n",
    "data_minus_rolmean.dropna(inplace=True)"
   ]
  },
  {
   "cell_type": "code",
   "execution_count": 16,
   "metadata": {},
   "outputs": [
    {
     "data": {
      "text/plain": [
       "Year\n",
       "1993-01-01    0.033913\n",
       "1994-01-01    0.035076\n",
       "1995-01-01    0.033500\n",
       "1996-01-01    0.030203\n",
       "1997-01-01    0.026115\n",
       "                ...   \n",
       "2015-01-01   -0.010458\n",
       "2016-01-01   -0.007694\n",
       "2017-01-01   -0.005265\n",
       "2018-01-01   -0.003499\n",
       "2019-01-01   -0.001949\n",
       "Name: Depression_Rates, Length: 27, dtype: float64"
      ]
     },
     "execution_count": 16,
     "metadata": {},
     "output_type": "execute_result"
    }
   ],
   "source": [
    "#Sanity Check\n",
    "data_minus_rolmean"
   ]
  },
  {
   "cell_type": "code",
   "execution_count": 17,
   "metadata": {},
   "outputs": [
    {
     "data": {
      "image/png": "[encoded data removed]",
      "text/plain": [
       "<Figure size 792x504 with 1 Axes>"
      ]
     },
     "metadata": {},
     "output_type": "display_data"
    }
   ],
   "source": [
    "#Plot the new data\n",
    "fig = plt.figure(figsize=(11, 7))\n",
    "plt.plot(data_minus_rolmean, label='Deprresion Percentage - rolling mean')\n",
    "plt.legend(loc='best')\n",
    "plt.title('Depression Rates while the rolling mean is subtracted')\n",
    "plt.show(block=False)"
   ]
  },
  {
   "cell_type": "code",
   "execution_count": 18,
   "metadata": {},
   "outputs": [
    {
     "data": {
      "text/plain": [
       "Year\n",
       "1993-01-01    0.033913\n",
       "1994-01-01    0.035076\n",
       "1995-01-01    0.033500\n",
       "1996-01-01    0.030203\n",
       "1997-01-01    0.026115\n",
       "                ...   \n",
       "2015-01-01   -0.010458\n",
       "2016-01-01   -0.007694\n",
       "2017-01-01   -0.005265\n",
       "2018-01-01   -0.003499\n",
       "2019-01-01   -0.001949\n",
       "Name: Depression_Rates, Length: 27, dtype: float64"
      ]
     },
     "execution_count": 18,
     "metadata": {},
     "output_type": "execute_result"
    }
   ],
   "source": [
    "data_minus_rolmean"
   ]
  },
  {
   "cell_type": "code",
   "execution_count": 19,
   "metadata": {},
   "outputs": [
    {
     "data": {
      "text/plain": [
       "Test Statistic                 -5.211491\n",
       "p-value                         0.000008\n",
       "#Lags Used                      9.000000\n",
       "Number of Observations Used    17.000000\n",
       "Critical Value (1%)            -3.889266\n",
       "Critical Value (5%)            -3.054358\n",
       "Critical Value (10%)           -2.666984\n",
       "dtype: float64"
      ]
     },
     "metadata": {},
     "output_type": "display_data"
    }
   ],
   "source": [
    "#Use a Dicky-Fuller Test to test for stationarity\n",
    "dftest = adfuller(data_minus_rolmean)\n",
    "\n",
    "#Make the output look better\n",
    "dfoutput = pd.Series(\n",
    "                dftest[0:4], \n",
    "                index=['Test Statistic','p-value','#Lags Used','Number of Observations Used']\n",
    ")\n",
    "\n",
    "for key,value in dftest[4].items():\n",
    "    dfoutput['Critical Value (%s)'%key] = value\n",
    "    \n",
    "display(dfoutput)"
   ]
  },
  {
   "cell_type": "code",
   "execution_count": 24,
   "metadata": {},
   "outputs": [
    {
     "data": {
      "text/plain": [
       "Test Statistic                 -1.734921\n",
       "p-value                         0.413216\n",
       "#Lags Used                      7.000000\n",
       "Number of Observations Used    22.000000\n",
       "Critical Value (1%)            -3.769733\n",
       "Critical Value (5%)            -3.005426\n",
       "Critical Value (10%)           -2.642501\n",
       "dtype: float64"
      ]
     },
     "metadata": {},
     "output_type": "display_data"
    }
   ],
   "source": [
    "#Use a Dicky-Fuller Test to test for stationarity\n",
    "dftest = adfuller(data_transform)\n",
    "\n",
    "#Make the output look better\n",
    "dfoutput = pd.Series(\n",
    "                dftest[0:4], \n",
    "                index=['Test Statistic','p-value','#Lags Used','Number of Observations Used']\n",
    ")\n",
    "\n",
    "for key,value in dftest[4].items():\n",
    "    dfoutput['Critical Value (%s)'%key] = value\n",
    "    \n",
    "display(dfoutput)"
   ]
  },
  {
   "cell_type": "markdown",
   "metadata": {},
   "source": [
    "Ultimately the log transformed data was used for this analysis because ARIMA models does not require the data to be stationary. This will also allow us to easily transform the data back to it's original number for forecasting "
   ]
  },
  {
   "cell_type": "markdown",
   "metadata": {},
   "source": [
    "## Modeling"
   ]
  },
  {
   "cell_type": "markdown",
   "metadata": {},
   "source": [
    "#### Train-Test Split"
   ]
  },
  {
   "cell_type": "code",
   "execution_count": 25,
   "metadata": {},
   "outputs": [
    {
     "data": {
      "text/plain": [
       "24"
      ]
     },
     "execution_count": 25,
     "metadata": {},
     "output_type": "execute_result"
    }
   ],
   "source": [
    "# find the index which allows us to split off 20% of the data\n",
    "cutoff = round(data_transform.shape[0]*0.8)\n",
    "cutoff"
   ]
  },
  {
   "cell_type": "code",
   "execution_count": 26,
   "metadata": {},
   "outputs": [
    {
     "data": {
      "image/png": "[encoded data removed]",
      "text/plain": [
       "<Figure size 864x576 with 1 Axes>"
      ]
     },
     "metadata": {},
     "output_type": "display_data"
    }
   ],
   "source": [
    "# Define train and test sets according to the index found above\n",
    "train = data_transform[:cutoff]\n",
    "\n",
    "test = data_transform[cutoff:]\n",
    "\n",
    "fig, ax = plt.subplots(figsize=(12, 8))\n",
    "ax.plot(train, label='train')\n",
    "ax.plot(test, label='test')\n",
    "ax.set_title('Train-Test Split');\n",
    "plt.legend();"
   ]
  },
  {
   "cell_type": "code",
   "execution_count": 27,
   "metadata": {},
   "outputs": [
    {
     "name": "stdout",
     "output_type": "stream",
     "text": [
      "[0 1 2 3] [4 5 6 7]\n",
      "[0 1 2 3 4 5 6 7] [ 8  9 10 11]\n",
      "[ 0  1  2  3  4  5  6  7  8  9 10 11] [12 13 14 15]\n",
      "[ 0  1  2  3  4  5  6  7  8  9 10 11 12 13 14 15] [16 17 18 19]\n",
      "[ 0  1  2  3  4  5  6  7  8  9 10 11 12 13 14 15 16 17 18 19] [20 21 22 23]\n"
     ]
    }
   ],
   "source": [
    "# Seperate some of the data in the training set for validation purposes\n",
    "split = TimeSeriesSplit()\n",
    "\n",
    "for train_ind, val_ind in split.split(train):\n",
    "    print(train_ind, val_ind)"
   ]
  },
  {
   "cell_type": "markdown",
   "metadata": {},
   "source": [
    "## Baseline Model\n",
    "\n",
    "Prediction is based solely on previous reporting cycle data. This will give us a good idea if our model has predictive capacity. "
   ]
  },
  {
   "cell_type": "code",
   "execution_count": 28,
   "metadata": {},
   "outputs": [
    {
     "data": {
      "text/plain": [
       "Year\n",
       "1990-01-01         NaN\n",
       "1991-01-01    1.403322\n",
       "1992-01-01    1.434277\n",
       "1993-01-01    1.464001\n",
       "1994-01-01    1.491545\n",
       "                ...   \n",
       "2009-01-01    1.595675\n",
       "2010-01-01    1.596109\n",
       "2011-01-01    1.595853\n",
       "2012-01-01    1.592155\n",
       "2013-01-01    1.583896\n",
       "Name: Depression_Rates, Length: 24, dtype: float64"
      ]
     },
     "execution_count": 28,
     "metadata": {},
     "output_type": "execute_result"
    }
   ],
   "source": [
    "naive = train.shift(1)\n",
    "naive"
   ]
  },
  {
   "cell_type": "code",
   "execution_count": 104,
   "metadata": {},
   "outputs": [
    {
     "data": {
      "image/png": "[encoded data removed]",
      "text/plain": [
       "<Figure size 864x576 with 1 Axes>"
      ]
     },
     "metadata": {},
     "output_type": "display_data"
    }
   ],
   "source": [
    "#Visual Demonstration of naive model\n",
    "fig, ax = plt.subplots(figsize = (12,8))\n",
    "\n",
    "train[0:30].plot(ax=ax, c='r', label='original')\n",
    "naive[0:30].plot(ax=ax, c='b', label='shifted')\n",
    "ax.set_title('Baseline Model (Naive Bayes)', fontsize = 18)\n",
    "ax.legend();"
   ]
  },
  {
   "cell_type": "code",
   "execution_count": 30,
   "metadata": {},
   "outputs": [
    {
     "data": {
      "text/plain": [
       "0.013940508484064926"
      ]
     },
     "execution_count": 30,
     "metadata": {},
     "output_type": "execute_result"
    }
   ],
   "source": [
    "#Root Mean Squared Error for Baseline\n",
    "np.sqrt(mean_squared_error(train[1:], naive.dropna()))"
   ]
  },
  {
   "cell_type": "markdown",
   "metadata": {},
   "source": [
    "The baseline model RMSE is .014"
   ]
  },
  {
   "cell_type": "markdown",
   "metadata": {},
   "source": [
    "### Testing different ARIMA models to see which has the lowest AIC"
   ]
  },
  {
   "cell_type": "code",
   "execution_count": 107,
   "metadata": {},
   "outputs": [
    {
     "name": "stderr",
     "output_type": "stream",
     "text": [
      "C:\\Users\\Johnn\\anaconda3\\envs\\learn-env\\lib\\site-packages\\statsmodels\\tsa\\base\\tsa_model.py:524: ValueWarning: No frequency information was provided, so inferred frequency AS-JAN will be used.\n",
      "  warnings.warn('No frequency information was'\n",
      "C:\\Users\\Johnn\\anaconda3\\envs\\learn-env\\lib\\site-packages\\statsmodels\\tsa\\base\\tsa_model.py:524: ValueWarning: No frequency information was provided, so inferred frequency AS-JAN will be used.\n",
      "  warnings.warn('No frequency information was'\n",
      "C:\\Users\\Johnn\\anaconda3\\envs\\learn-env\\lib\\site-packages\\statsmodels\\tsa\\base\\tsa_model.py:524: ValueWarning: No frequency information was provided, so inferred frequency AS-JAN will be used.\n",
      "  warnings.warn('No frequency information was'\n"
     ]
    },
    {
     "data": {
      "text/html": [
       "<table class=\"simpletable\">\n",
       "<caption>SARIMAX Results</caption>\n",
       "<tr>\n",
       "  <th>Dep. Variable:</th>   <td>Depression_Rates</td> <th>  No. Observations:  </th>    <td>24</td>   \n",
       "</tr>\n",
       "<tr>\n",
       "  <th>Model:</th>            <td>ARIMA(1, 1, 0)</td>  <th>  Log Likelihood     </th>  <td>98.115</td> \n",
       "</tr>\n",
       "<tr>\n",
       "  <th>Date:</th>            <td>Thu, 14 Jul 2022</td> <th>  AIC                </th> <td>-192.230</td>\n",
       "</tr>\n",
       "<tr>\n",
       "  <th>Time:</th>                <td>04:45:00</td>     <th>  BIC                </th> <td>-189.959</td>\n",
       "</tr>\n",
       "<tr>\n",
       "  <th>Sample:</th>             <td>01-01-1990</td>    <th>  HQIC               </th> <td>-191.659</td>\n",
       "</tr>\n",
       "<tr>\n",
       "  <th></th>                   <td>- 01-01-2013</td>   <th>                     </th>     <td> </td>   \n",
       "</tr>\n",
       "<tr>\n",
       "  <th>Covariance Type:</th>        <td>opg</td>       <th>                     </th>     <td> </td>   \n",
       "</tr>\n",
       "</table>\n",
       "<table class=\"simpletable\">\n",
       "<tr>\n",
       "     <td></td>       <th>coef</th>     <th>std err</th>      <th>z</th>      <th>P>|z|</th>  <th>[0.025</th>    <th>0.975]</th>  \n",
       "</tr>\n",
       "<tr>\n",
       "  <th>ar.L1</th>  <td>    0.9081</td> <td>    0.052</td> <td>   17.466</td> <td> 0.000</td> <td>    0.806</td> <td>    1.010</td>\n",
       "</tr>\n",
       "<tr>\n",
       "  <th>sigma2</th> <td> 1.073e-05</td> <td> 5.62e-06</td> <td>    1.908</td> <td> 0.056</td> <td>-2.93e-07</td> <td> 2.18e-05</td>\n",
       "</tr>\n",
       "</table>\n",
       "<table class=\"simpletable\">\n",
       "<tr>\n",
       "  <th>Ljung-Box (L1) (Q):</th>     <td>2.32</td> <th>  Jarque-Bera (JB):  </th> <td>135.10</td>\n",
       "</tr>\n",
       "<tr>\n",
       "  <th>Prob(Q):</th>                <td>0.13</td> <th>  Prob(JB):          </th>  <td>0.00</td> \n",
       "</tr>\n",
       "<tr>\n",
       "  <th>Heteroskedasticity (H):</th> <td>0.24</td> <th>  Skew:              </th>  <td>2.98</td> \n",
       "</tr>\n",
       "<tr>\n",
       "  <th>Prob(H) (two-sided):</th>    <td>0.06</td> <th>  Kurtosis:          </th>  <td>13.27</td>\n",
       "</tr>\n",
       "</table><br/><br/>Warnings:<br/>[1] Covariance matrix calculated using the outer product of gradients (complex-step)."
      ],
      "text/plain": [
       "<class 'statsmodels.iolib.summary.Summary'>\n",
       "\"\"\"\n",
       "                               SARIMAX Results                                \n",
       "==============================================================================\n",
       "Dep. Variable:       Depression_Rates   No. Observations:                   24\n",
       "Model:                 ARIMA(1, 1, 0)   Log Likelihood                  98.115\n",
       "Date:                Thu, 14 Jul 2022   AIC                           -192.230\n",
       "Time:                        04:45:00   BIC                           -189.959\n",
       "Sample:                    01-01-1990   HQIC                          -191.659\n",
       "                         - 01-01-2013                                         \n",
       "Covariance Type:                  opg                                         \n",
       "==============================================================================\n",
       "                 coef    std err          z      P>|z|      [0.025      0.975]\n",
       "------------------------------------------------------------------------------\n",
       "ar.L1          0.9081      0.052     17.466      0.000       0.806       1.010\n",
       "sigma2      1.073e-05   5.62e-06      1.908      0.056   -2.93e-07    2.18e-05\n",
       "===================================================================================\n",
       "Ljung-Box (L1) (Q):                   2.32   Jarque-Bera (JB):               135.10\n",
       "Prob(Q):                              0.13   Prob(JB):                         0.00\n",
       "Heteroskedasticity (H):               0.24   Skew:                             2.98\n",
       "Prob(H) (two-sided):                  0.06   Kurtosis:                        13.27\n",
       "===================================================================================\n",
       "\n",
       "Warnings:\n",
       "[1] Covariance matrix calculated using the outer product of gradients (complex-step).\n",
       "\"\"\""
      ]
     },
     "execution_count": 107,
     "metadata": {},
     "output_type": "execute_result"
    }
   ],
   "source": [
    "ar_1 = ARIMA(train, order=(1, 1, 0)).fit()\n",
    "ar_1.summary()"
   ]
  },
  {
   "cell_type": "code",
   "execution_count": 108,
   "metadata": {},
   "outputs": [
    {
     "name": "stdout",
     "output_type": "stream",
     "text": [
      "-229.51251381479508\n"
     ]
    },
    {
     "name": "stderr",
     "output_type": "stream",
     "text": [
      "C:\\Users\\Johnn\\anaconda3\\envs\\learn-env\\lib\\site-packages\\statsmodels\\tsa\\base\\tsa_model.py:524: ValueWarning: No frequency information was provided, so inferred frequency AS-JAN will be used.\n",
      "  warnings.warn('No frequency information was'\n",
      "C:\\Users\\Johnn\\anaconda3\\envs\\learn-env\\lib\\site-packages\\statsmodels\\tsa\\base\\tsa_model.py:524: ValueWarning: No frequency information was provided, so inferred frequency AS-JAN will be used.\n",
      "  warnings.warn('No frequency information was'\n",
      "C:\\Users\\Johnn\\anaconda3\\envs\\learn-env\\lib\\site-packages\\statsmodels\\tsa\\base\\tsa_model.py:524: ValueWarning: No frequency information was provided, so inferred frequency AS-JAN will be used.\n",
      "  warnings.warn('No frequency information was'\n"
     ]
    }
   ],
   "source": [
    "ar_2 = ARIMA(train, order=(2, 1, 0)).fit()\n",
    "\n",
    "print(ar_2.aic)"
   ]
  },
  {
   "cell_type": "code",
   "execution_count": 109,
   "metadata": {},
   "outputs": [
    {
     "name": "stdout",
     "output_type": "stream",
     "text": [
      "-229.51251381479508\n"
     ]
    },
    {
     "name": "stderr",
     "output_type": "stream",
     "text": [
      "C:\\Users\\Johnn\\anaconda3\\envs\\learn-env\\lib\\site-packages\\statsmodels\\tsa\\base\\tsa_model.py:524: ValueWarning: No frequency information was provided, so inferred frequency AS-JAN will be used.\n",
      "  warnings.warn('No frequency information was'\n",
      "C:\\Users\\Johnn\\anaconda3\\envs\\learn-env\\lib\\site-packages\\statsmodels\\tsa\\base\\tsa_model.py:524: ValueWarning: No frequency information was provided, so inferred frequency AS-JAN will be used.\n",
      "  warnings.warn('No frequency information was'\n",
      "C:\\Users\\Johnn\\anaconda3\\envs\\learn-env\\lib\\site-packages\\statsmodels\\tsa\\base\\tsa_model.py:524: ValueWarning: No frequency information was provided, so inferred frequency AS-JAN will be used.\n",
      "  warnings.warn('No frequency information was'\n"
     ]
    }
   ],
   "source": [
    "ar_3 = ARIMA(train, order=(2, 1, 0)).fit()\n",
    "\n",
    "print(ar_2.aic)"
   ]
  },
  {
   "cell_type": "code",
   "execution_count": 37,
   "metadata": {},
   "outputs": [
    {
     "name": "stdout",
     "output_type": "stream",
     "text": [
      "-219.42490949606915\n"
     ]
    },
    {
     "name": "stderr",
     "output_type": "stream",
     "text": [
      "C:\\Users\\Johnn\\anaconda3\\envs\\learn-env\\lib\\site-packages\\statsmodels\\tsa\\base\\tsa_model.py:524: ValueWarning: No frequency information was provided, so inferred frequency AS-JAN will be used.\n",
      "  warnings.warn('No frequency information was'\n",
      "C:\\Users\\Johnn\\anaconda3\\envs\\learn-env\\lib\\site-packages\\statsmodels\\tsa\\base\\tsa_model.py:524: ValueWarning: No frequency information was provided, so inferred frequency AS-JAN will be used.\n",
      "  warnings.warn('No frequency information was'\n",
      "C:\\Users\\Johnn\\anaconda3\\envs\\learn-env\\lib\\site-packages\\statsmodels\\tsa\\base\\tsa_model.py:524: ValueWarning: No frequency information was provided, so inferred frequency AS-JAN will be used.\n",
      "  warnings.warn('No frequency information was'\n"
     ]
    }
   ],
   "source": [
    "ar_2 = ARIMA(train, order=(2, 2, 1)).fit()\n",
    "\n",
    "print(ar_2.aic)"
   ]
  },
  {
   "cell_type": "code",
   "execution_count": 110,
   "metadata": {},
   "outputs": [
    {
     "name": "stdout",
     "output_type": "stream",
     "text": [
      "-229.51251381479508\n"
     ]
    },
    {
     "name": "stderr",
     "output_type": "stream",
     "text": [
      "C:\\Users\\Johnn\\anaconda3\\envs\\learn-env\\lib\\site-packages\\statsmodels\\tsa\\base\\tsa_model.py:524: ValueWarning: No frequency information was provided, so inferred frequency AS-JAN will be used.\n",
      "  warnings.warn('No frequency information was'\n",
      "C:\\Users\\Johnn\\anaconda3\\envs\\learn-env\\lib\\site-packages\\statsmodels\\tsa\\base\\tsa_model.py:524: ValueWarning: No frequency information was provided, so inferred frequency AS-JAN will be used.\n",
      "  warnings.warn('No frequency information was'\n",
      "C:\\Users\\Johnn\\anaconda3\\envs\\learn-env\\lib\\site-packages\\statsmodels\\tsa\\base\\tsa_model.py:524: ValueWarning: No frequency information was provided, so inferred frequency AS-JAN will be used.\n",
      "  warnings.warn('No frequency information was'\n"
     ]
    }
   ],
   "source": [
    "ar_4 = ARIMA(train, order=(3, 2, 1)).fit()\n",
    "\n",
    "print(ar_2.aic)"
   ]
  },
  {
   "cell_type": "code",
   "execution_count": 111,
   "metadata": {},
   "outputs": [
    {
     "name": "stderr",
     "output_type": "stream",
     "text": [
      "C:\\Users\\Johnn\\anaconda3\\envs\\learn-env\\lib\\site-packages\\statsmodels\\tsa\\base\\tsa_model.py:524: ValueWarning: No frequency information was provided, so inferred frequency AS-JAN will be used.\n",
      "  warnings.warn('No frequency information was'\n",
      "C:\\Users\\Johnn\\anaconda3\\envs\\learn-env\\lib\\site-packages\\statsmodels\\tsa\\base\\tsa_model.py:524: ValueWarning: No frequency information was provided, so inferred frequency AS-JAN will be used.\n",
      "  warnings.warn('No frequency information was'\n",
      "C:\\Users\\Johnn\\anaconda3\\envs\\learn-env\\lib\\site-packages\\statsmodels\\tsa\\base\\tsa_model.py:524: ValueWarning: No frequency information was provided, so inferred frequency AS-JAN will be used.\n",
      "  warnings.warn('No frequency information was'\n",
      "C:\\Users\\Johnn\\anaconda3\\envs\\learn-env\\lib\\site-packages\\statsmodels\\tsa\\statespace\\sarimax.py:965: UserWarning: Non-stationary starting autoregressive parameters found. Using zeros as starting parameters.\n",
      "  warn('Non-stationary starting autoregressive parameters'\n",
      "C:\\Users\\Johnn\\anaconda3\\envs\\learn-env\\lib\\site-packages\\statsmodels\\tsa\\statespace\\sarimax.py:977: UserWarning: Non-invertible starting MA parameters found. Using zeros as starting parameters.\n",
      "  warn('Non-invertible starting MA parameters found.'\n"
     ]
    },
    {
     "name": "stdout",
     "output_type": "stream",
     "text": [
      "-229.51251381479508\n"
     ]
    },
    {
     "name": "stderr",
     "output_type": "stream",
     "text": [
      "C:\\Users\\Johnn\\anaconda3\\envs\\learn-env\\lib\\site-packages\\statsmodels\\base\\model.py:566: ConvergenceWarning: Maximum Likelihood optimization failed to converge. Check mle_retvals\n",
      "  warnings.warn(\"Maximum Likelihood optimization failed to \"\n"
     ]
    }
   ],
   "source": [
    "ar_5 = ARIMA(train, order=(4, 2, 1)).fit()\n",
    "\n",
    "print(ar_2.aic)"
   ]
  },
  {
   "cell_type": "markdown",
   "metadata": {},
   "source": [
    "There does not seem to be a huge improvement using this method"
   ]
  },
  {
   "cell_type": "markdown",
   "metadata": {},
   "source": [
    "## Using ACF and PACF \n",
    "\n",
    "A better way of going at this is by examining these charts. The ACF can tell us the optimal number of lags to go backwards and the PACF shows the direct effect of previous lags and thus the AR term for our model."
   ]
  },
  {
   "cell_type": "code",
   "execution_count": 99,
   "metadata": {},
   "outputs": [
    {
     "data": {
      "image/png": "[encoded data removed]",
      "text/plain": [
       "<Figure size 432x288 with 1 Axes>"
      ]
     },
     "metadata": {},
     "output_type": "display_data"
    }
   ],
   "source": [
    "plot_acf(data_minus_rolmean); "
   ]
  },
  {
   "cell_type": "markdown",
   "metadata": {},
   "source": [
    "It appears that an MA of around two or three will be best in the final model as those lags still have some predictive capabilities. "
   ]
  },
  {
   "cell_type": "code",
   "execution_count": 47,
   "metadata": {},
   "outputs": [
    {
     "data": {
      "image/png": "[encoded data removed]",
      "text/plain": [
       "<Figure size 432x288 with 1 Axes>"
      ]
     },
     "metadata": {},
     "output_type": "display_data"
    }
   ],
   "source": [
    "plot_pacf(train.diff().dropna(), lags = );"
   ]
  },
  {
   "cell_type": "markdown",
   "metadata": {},
   "source": [
    "### Analysis\n",
    "The ACF seems to drop around three while the PACF seems to be best at 1. While working through some other models that are not in the notebook, I noticed a trend in the PACF that there was significant correlation every four years. This interested me because something important and potentially stressful happens every four years. Presidential elections can be a stressful thing for people who are worried about their security and the economy and potentially trigger depression. \n",
    "\n",
    "For more research in this topic I suggest reading these articles (https://www.headspace.com/articles/election-anxiety, https://www.washingtonpost.com/lifestyle/wellness/stress-detox-election-anxiety/2020/11/09/96e5974c-1fa7-11eb-90dd-abd0f7086a91_story.html)\n",
    "\n",
    "As a result of this finding, I wanted to use a SARIMA model that could incorporate a seasonality component in the model. \n",
    "\n"
   ]
  },
  {
   "cell_type": "markdown",
   "metadata": {},
   "source": [
    "## Model Iteration\n",
    "\n",
    "I used a function that would allow me to grid search through a bunch of different parameters in my SARIMAX model in order to find the best one. The models were evaluated by their Akaike information criterion (AIC). This allowed me to determine the best model for this dataset. "
   ]
  },
  {
   "cell_type": "code",
   "execution_count": 32,
   "metadata": {},
   "outputs": [
    {
     "name": "stdout",
     "output_type": "stream",
     "text": [
      "Examples of parameter for SARIMA...\n",
      "SARIMAX: (0, 0, 1) x (0, 0, 1, 4)\n",
      "SARIMAX: (0, 0, 1) x (0, 1, 0, 4)\n",
      "SARIMAX: (0, 1, 0) x (0, 1, 1, 4)\n",
      "SARIMAX: (0, 1, 0) x (1, 0, 0, 4)\n"
     ]
    }
   ],
   "source": [
    "p = d = q = range(0, 2)\n",
    "pdq = list(itertools.product(p, d, q))\n",
    "seasonal_pdq = [(x[0], x[1], x[2],4) for x in list(itertools.product(p, d, q))]\n",
    "print('Examples of parameter for SARIMA...')\n",
    "print('SARIMAX: {} x {}'.format(pdq[1], seasonal_pdq[1]))\n",
    "print('SARIMAX: {} x {}'.format(pdq[1], seasonal_pdq[2]))\n",
    "print('SARIMAX: {} x {}'.format(pdq[2], seasonal_pdq[3]))\n",
    "print('SARIMAX: {} x {}'.format(pdq[2], seasonal_pdq[4]))"
   ]
  },
  {
   "cell_type": "code",
   "execution_count": 33,
   "metadata": {
    "scrolled": true
   },
   "outputs": [
    {
     "name": "stderr",
     "output_type": "stream",
     "text": [
      "C:\\Users\\Johnn\\anaconda3\\envs\\learn-env\\lib\\site-packages\\statsmodels\\tsa\\base\\tsa_model.py:524: ValueWarning: No frequency information was provided, so inferred frequency AS-JAN will be used.\n",
      "  warnings.warn('No frequency information was'\n",
      "C:\\Users\\Johnn\\anaconda3\\envs\\learn-env\\lib\\site-packages\\statsmodels\\tsa\\base\\tsa_model.py:524: ValueWarning: No frequency information was provided, so inferred frequency AS-JAN will be used.\n",
      "  warnings.warn('No frequency information was'\n",
      "C:\\Users\\Johnn\\anaconda3\\envs\\learn-env\\lib\\site-packages\\statsmodels\\tsa\\base\\tsa_model.py:524: ValueWarning: No frequency information was provided, so inferred frequency AS-JAN will be used.\n",
      "  warnings.warn('No frequency information was'\n",
      "C:\\Users\\Johnn\\anaconda3\\envs\\learn-env\\lib\\site-packages\\statsmodels\\tsa\\base\\tsa_model.py:524: ValueWarning: No frequency information was provided, so inferred frequency AS-JAN will be used.\n",
      "  warnings.warn('No frequency information was'\n",
      "C:\\Users\\Johnn\\anaconda3\\envs\\learn-env\\lib\\site-packages\\statsmodels\\tsa\\base\\tsa_model.py:524: ValueWarning: No frequency information was provided, so inferred frequency AS-JAN will be used.\n",
      "  warnings.warn('No frequency information was'\n",
      "C:\\Users\\Johnn\\anaconda3\\envs\\learn-env\\lib\\site-packages\\statsmodels\\tsa\\base\\tsa_model.py:524: ValueWarning: No frequency information was provided, so inferred frequency AS-JAN will be used.\n",
      "  warnings.warn('No frequency information was'\n",
      "C:\\Users\\Johnn\\anaconda3\\envs\\learn-env\\lib\\site-packages\\statsmodels\\tsa\\base\\tsa_model.py:524: ValueWarning: No frequency information was provided, so inferred frequency AS-JAN will be used.\n",
      "  warnings.warn('No frequency information was'\n",
      "C:\\Users\\Johnn\\anaconda3\\envs\\learn-env\\lib\\site-packages\\statsmodels\\tsa\\base\\tsa_model.py:524: ValueWarning: No frequency information was provided, so inferred frequency AS-JAN will be used.\n",
      "  warnings.warn('No frequency information was'\n",
      "C:\\Users\\Johnn\\anaconda3\\envs\\learn-env\\lib\\site-packages\\statsmodels\\tsa\\base\\tsa_model.py:524: ValueWarning: No frequency information was provided, so inferred frequency AS-JAN will be used.\n",
      "  warnings.warn('No frequency information was'\n",
      "C:\\Users\\Johnn\\anaconda3\\envs\\learn-env\\lib\\site-packages\\statsmodels\\tsa\\base\\tsa_model.py:524: ValueWarning: No frequency information was provided, so inferred frequency AS-JAN will be used.\n",
      "  warnings.warn('No frequency information was'\n",
      "C:\\Users\\Johnn\\anaconda3\\envs\\learn-env\\lib\\site-packages\\statsmodels\\tsa\\base\\tsa_model.py:524: ValueWarning: No frequency information was provided, so inferred frequency AS-JAN will be used.\n",
      "  warnings.warn('No frequency information was'\n",
      "C:\\Users\\Johnn\\anaconda3\\envs\\learn-env\\lib\\site-packages\\statsmodels\\tsa\\base\\tsa_model.py:524: ValueWarning: No frequency information was provided, so inferred frequency AS-JAN will be used.\n",
      "  warnings.warn('No frequency information was'\n",
      "C:\\Users\\Johnn\\anaconda3\\envs\\learn-env\\lib\\site-packages\\statsmodels\\tsa\\base\\tsa_model.py:524: ValueWarning: No frequency information was provided, so inferred frequency AS-JAN will be used.\n",
      "  warnings.warn('No frequency information was'\n",
      "C:\\Users\\Johnn\\anaconda3\\envs\\learn-env\\lib\\site-packages\\statsmodels\\tsa\\base\\tsa_model.py:524: ValueWarning: No frequency information was provided, so inferred frequency AS-JAN will be used.\n",
      "  warnings.warn('No frequency information was'\n",
      "C:\\Users\\Johnn\\anaconda3\\envs\\learn-env\\lib\\site-packages\\statsmodels\\tsa\\base\\tsa_model.py:524: ValueWarning: No frequency information was provided, so inferred frequency AS-JAN will be used.\n",
      "  warnings.warn('No frequency information was'\n",
      "C:\\Users\\Johnn\\anaconda3\\envs\\learn-env\\lib\\site-packages\\statsmodels\\tsa\\base\\tsa_model.py:524: ValueWarning: No frequency information was provided, so inferred frequency AS-JAN will be used.\n",
      "  warnings.warn('No frequency information was'\n",
      "C:\\Users\\Johnn\\anaconda3\\envs\\learn-env\\lib\\site-packages\\statsmodels\\tsa\\base\\tsa_model.py:524: ValueWarning: No frequency information was provided, so inferred frequency AS-JAN will be used.\n",
      "  warnings.warn('No frequency information was'\n",
      "C:\\Users\\Johnn\\anaconda3\\envs\\learn-env\\lib\\site-packages\\statsmodels\\tsa\\base\\tsa_model.py:524: ValueWarning: No frequency information was provided, so inferred frequency AS-JAN will be used.\n",
      "  warnings.warn('No frequency information was'\n"
     ]
    },
    {
     "name": "stdout",
     "output_type": "stream",
     "text": [
      "ARIMA(0, 0, 0)x(0, 0, 0, 4) - AIC:87.89433182538414\n",
      "ARIMA(0, 0, 0)x(0, 0, 1, 4) - AIC:87.89433182538414\n",
      "ARIMA(0, 0, 0)x(0, 1, 0, 4) - AIC:87.89433182538414\n",
      "ARIMA(0, 0, 0)x(0, 1, 1, 4) - AIC:87.89433182538414\n",
      "ARIMA(0, 0, 0)x(1, 0, 0, 4) - AIC:87.89433182538414\n",
      "ARIMA(0, 0, 0)x(1, 0, 1, 4) - AIC:87.89433182538414\n",
      "ARIMA(0, 0, 0)x(1, 1, 0, 4) - AIC:87.89433182538414\n",
      "ARIMA(0, 0, 0)x(1, 1, 1, 4) - AIC:87.89433182538414\n",
      "ARIMA(0, 0, 1)x(0, 0, 0, 4) - AIC:59.824320208563094\n",
      "ARIMA(0, 0, 1)x(0, 0, 1, 4) - AIC:59.824320208563094\n",
      "ARIMA(0, 0, 1)x(0, 1, 0, 4) - AIC:59.824320208563094\n"
     ]
    },
    {
     "name": "stderr",
     "output_type": "stream",
     "text": [
      "C:\\Users\\Johnn\\anaconda3\\envs\\learn-env\\lib\\site-packages\\statsmodels\\tsa\\base\\tsa_model.py:524: ValueWarning: No frequency information was provided, so inferred frequency AS-JAN will be used.\n",
      "  warnings.warn('No frequency information was'\n",
      "C:\\Users\\Johnn\\anaconda3\\envs\\learn-env\\lib\\site-packages\\statsmodels\\tsa\\base\\tsa_model.py:524: ValueWarning: No frequency information was provided, so inferred frequency AS-JAN will be used.\n",
      "  warnings.warn('No frequency information was'\n",
      "C:\\Users\\Johnn\\anaconda3\\envs\\learn-env\\lib\\site-packages\\statsmodels\\tsa\\base\\tsa_model.py:524: ValueWarning: No frequency information was provided, so inferred frequency AS-JAN will be used.\n",
      "  warnings.warn('No frequency information was'\n",
      "C:\\Users\\Johnn\\anaconda3\\envs\\learn-env\\lib\\site-packages\\statsmodels\\tsa\\base\\tsa_model.py:524: ValueWarning: No frequency information was provided, so inferred frequency AS-JAN will be used.\n",
      "  warnings.warn('No frequency information was'\n",
      "C:\\Users\\Johnn\\anaconda3\\envs\\learn-env\\lib\\site-packages\\statsmodels\\tsa\\base\\tsa_model.py:524: ValueWarning: No frequency information was provided, so inferred frequency AS-JAN will be used.\n",
      "  warnings.warn('No frequency information was'\n",
      "C:\\Users\\Johnn\\anaconda3\\envs\\learn-env\\lib\\site-packages\\statsmodels\\tsa\\base\\tsa_model.py:524: ValueWarning: No frequency information was provided, so inferred frequency AS-JAN will be used.\n",
      "  warnings.warn('No frequency information was'\n"
     ]
    },
    {
     "name": "stdout",
     "output_type": "stream",
     "text": [
      "ARIMA(0, 0, 1)x(0, 1, 1, 4) - AIC:59.824320208563094\n",
      "ARIMA(0, 0, 1)x(1, 0, 0, 4) - AIC:59.824320208563094\n",
      "ARIMA(0, 0, 1)x(1, 0, 1, 4) - AIC:59.824320208563094\n"
     ]
    },
    {
     "name": "stderr",
     "output_type": "stream",
     "text": [
      "C:\\Users\\Johnn\\anaconda3\\envs\\learn-env\\lib\\site-packages\\statsmodels\\tsa\\base\\tsa_model.py:524: ValueWarning: No frequency information was provided, so inferred frequency AS-JAN will be used.\n",
      "  warnings.warn('No frequency information was'\n",
      "C:\\Users\\Johnn\\anaconda3\\envs\\learn-env\\lib\\site-packages\\statsmodels\\tsa\\base\\tsa_model.py:524: ValueWarning: No frequency information was provided, so inferred frequency AS-JAN will be used.\n",
      "  warnings.warn('No frequency information was'\n",
      "C:\\Users\\Johnn\\anaconda3\\envs\\learn-env\\lib\\site-packages\\statsmodels\\tsa\\base\\tsa_model.py:524: ValueWarning: No frequency information was provided, so inferred frequency AS-JAN will be used.\n",
      "  warnings.warn('No frequency information was'\n",
      "C:\\Users\\Johnn\\anaconda3\\envs\\learn-env\\lib\\site-packages\\statsmodels\\tsa\\base\\tsa_model.py:524: ValueWarning: No frequency information was provided, so inferred frequency AS-JAN will be used.\n",
      "  warnings.warn('No frequency information was'\n",
      "C:\\Users\\Johnn\\anaconda3\\envs\\learn-env\\lib\\site-packages\\statsmodels\\tsa\\base\\tsa_model.py:524: ValueWarning: No frequency information was provided, so inferred frequency AS-JAN will be used.\n",
      "  warnings.warn('No frequency information was'\n",
      "C:\\Users\\Johnn\\anaconda3\\envs\\learn-env\\lib\\site-packages\\statsmodels\\tsa\\base\\tsa_model.py:524: ValueWarning: No frequency information was provided, so inferred frequency AS-JAN will be used.\n",
      "  warnings.warn('No frequency information was'\n"
     ]
    },
    {
     "name": "stdout",
     "output_type": "stream",
     "text": [
      "ARIMA(0, 0, 1)x(1, 1, 0, 4) - AIC:59.824320208563094\n",
      "ARIMA(0, 0, 1)x(1, 1, 1, 4) - AIC:59.824320208563094\n",
      "ARIMA(0, 1, 0)x(0, 0, 0, 4) - AIC:-127.90684779227996\n",
      "ARIMA(0, 1, 0)x(0, 0, 1, 4) - AIC:-127.90684779227996\n",
      "ARIMA(0, 1, 0)x(0, 1, 0, 4) - AIC:-127.90684779227996\n"
     ]
    },
    {
     "name": "stderr",
     "output_type": "stream",
     "text": [
      "C:\\Users\\Johnn\\anaconda3\\envs\\learn-env\\lib\\site-packages\\statsmodels\\tsa\\base\\tsa_model.py:524: ValueWarning: No frequency information was provided, so inferred frequency AS-JAN will be used.\n",
      "  warnings.warn('No frequency information was'\n",
      "C:\\Users\\Johnn\\anaconda3\\envs\\learn-env\\lib\\site-packages\\statsmodels\\tsa\\base\\tsa_model.py:524: ValueWarning: No frequency information was provided, so inferred frequency AS-JAN will be used.\n",
      "  warnings.warn('No frequency information was'\n",
      "C:\\Users\\Johnn\\anaconda3\\envs\\learn-env\\lib\\site-packages\\statsmodels\\tsa\\base\\tsa_model.py:524: ValueWarning: No frequency information was provided, so inferred frequency AS-JAN will be used.\n",
      "  warnings.warn('No frequency information was'\n",
      "C:\\Users\\Johnn\\anaconda3\\envs\\learn-env\\lib\\site-packages\\statsmodels\\tsa\\base\\tsa_model.py:524: ValueWarning: No frequency information was provided, so inferred frequency AS-JAN will be used.\n",
      "  warnings.warn('No frequency information was'\n",
      "C:\\Users\\Johnn\\anaconda3\\envs\\learn-env\\lib\\site-packages\\statsmodels\\tsa\\base\\tsa_model.py:524: ValueWarning: No frequency information was provided, so inferred frequency AS-JAN will be used.\n",
      "  warnings.warn('No frequency information was'\n",
      "C:\\Users\\Johnn\\anaconda3\\envs\\learn-env\\lib\\site-packages\\statsmodels\\tsa\\base\\tsa_model.py:524: ValueWarning: No frequency information was provided, so inferred frequency AS-JAN will be used.\n",
      "  warnings.warn('No frequency information was'\n",
      "C:\\Users\\Johnn\\anaconda3\\envs\\learn-env\\lib\\site-packages\\statsmodels\\tsa\\base\\tsa_model.py:524: ValueWarning: No frequency information was provided, so inferred frequency AS-JAN will be used.\n",
      "  warnings.warn('No frequency information was'\n",
      "C:\\Users\\Johnn\\anaconda3\\envs\\learn-env\\lib\\site-packages\\statsmodels\\tsa\\base\\tsa_model.py:524: ValueWarning: No frequency information was provided, so inferred frequency AS-JAN will be used.\n",
      "  warnings.warn('No frequency information was'\n",
      "C:\\Users\\Johnn\\anaconda3\\envs\\learn-env\\lib\\site-packages\\statsmodels\\tsa\\base\\tsa_model.py:524: ValueWarning: No frequency information was provided, so inferred frequency AS-JAN will be used.\n",
      "  warnings.warn('No frequency information was'\n",
      "C:\\Users\\Johnn\\anaconda3\\envs\\learn-env\\lib\\site-packages\\statsmodels\\tsa\\base\\tsa_model.py:524: ValueWarning: No frequency information was provided, so inferred frequency AS-JAN will be used.\n",
      "  warnings.warn('No frequency information was'\n"
     ]
    },
    {
     "name": "stdout",
     "output_type": "stream",
     "text": [
      "ARIMA(0, 1, 0)x(0, 1, 1, 4) - AIC:-127.90684779227996\n",
      "ARIMA(0, 1, 0)x(1, 0, 0, 4) - AIC:-127.90684779227996\n",
      "ARIMA(0, 1, 0)x(1, 0, 1, 4) - AIC:-127.90684779227996\n",
      "ARIMA(0, 1, 0)x(1, 1, 0, 4) - AIC:-127.90684779227996\n",
      "ARIMA(0, 1, 0)x(1, 1, 1, 4) - AIC:-127.90684779227996\n",
      "ARIMA(0, 1, 1)x(0, 0, 0, 4) - AIC:-138.66815292033223\n",
      "ARIMA(0, 1, 1)x(0, 0, 1, 4) - AIC:-138.66815292033223\n"
     ]
    },
    {
     "name": "stderr",
     "output_type": "stream",
     "text": [
      "C:\\Users\\Johnn\\anaconda3\\envs\\learn-env\\lib\\site-packages\\statsmodels\\tsa\\base\\tsa_model.py:524: ValueWarning: No frequency information was provided, so inferred frequency AS-JAN will be used.\n",
      "  warnings.warn('No frequency information was'\n",
      "C:\\Users\\Johnn\\anaconda3\\envs\\learn-env\\lib\\site-packages\\statsmodels\\tsa\\base\\tsa_model.py:524: ValueWarning: No frequency information was provided, so inferred frequency AS-JAN will be used.\n",
      "  warnings.warn('No frequency information was'\n",
      "C:\\Users\\Johnn\\anaconda3\\envs\\learn-env\\lib\\site-packages\\statsmodels\\tsa\\base\\tsa_model.py:524: ValueWarning: No frequency information was provided, so inferred frequency AS-JAN will be used.\n",
      "  warnings.warn('No frequency information was'\n",
      "C:\\Users\\Johnn\\anaconda3\\envs\\learn-env\\lib\\site-packages\\statsmodels\\tsa\\base\\tsa_model.py:524: ValueWarning: No frequency information was provided, so inferred frequency AS-JAN will be used.\n",
      "  warnings.warn('No frequency information was'\n",
      "C:\\Users\\Johnn\\anaconda3\\envs\\learn-env\\lib\\site-packages\\statsmodels\\tsa\\base\\tsa_model.py:524: ValueWarning: No frequency information was provided, so inferred frequency AS-JAN will be used.\n",
      "  warnings.warn('No frequency information was'\n",
      "C:\\Users\\Johnn\\anaconda3\\envs\\learn-env\\lib\\site-packages\\statsmodels\\tsa\\base\\tsa_model.py:524: ValueWarning: No frequency information was provided, so inferred frequency AS-JAN will be used.\n",
      "  warnings.warn('No frequency information was'\n",
      "C:\\Users\\Johnn\\anaconda3\\envs\\learn-env\\lib\\site-packages\\statsmodels\\tsa\\base\\tsa_model.py:524: ValueWarning: No frequency information was provided, so inferred frequency AS-JAN will be used.\n",
      "  warnings.warn('No frequency information was'\n",
      "C:\\Users\\Johnn\\anaconda3\\envs\\learn-env\\lib\\site-packages\\statsmodels\\tsa\\base\\tsa_model.py:524: ValueWarning: No frequency information was provided, so inferred frequency AS-JAN will be used.\n",
      "  warnings.warn('No frequency information was'\n",
      "C:\\Users\\Johnn\\anaconda3\\envs\\learn-env\\lib\\site-packages\\statsmodels\\tsa\\base\\tsa_model.py:524: ValueWarning: No frequency information was provided, so inferred frequency AS-JAN will be used.\n",
      "  warnings.warn('No frequency information was'\n",
      "C:\\Users\\Johnn\\anaconda3\\envs\\learn-env\\lib\\site-packages\\statsmodels\\tsa\\base\\tsa_model.py:524: ValueWarning: No frequency information was provided, so inferred frequency AS-JAN will be used.\n",
      "  warnings.warn('No frequency information was'\n",
      "C:\\Users\\Johnn\\anaconda3\\envs\\learn-env\\lib\\site-packages\\statsmodels\\tsa\\base\\tsa_model.py:524: ValueWarning: No frequency information was provided, so inferred frequency AS-JAN will be used.\n",
      "  warnings.warn('No frequency information was'\n",
      "C:\\Users\\Johnn\\anaconda3\\envs\\learn-env\\lib\\site-packages\\statsmodels\\tsa\\base\\tsa_model.py:524: ValueWarning: No frequency information was provided, so inferred frequency AS-JAN will be used.\n",
      "  warnings.warn('No frequency information was'\n",
      "C:\\Users\\Johnn\\anaconda3\\envs\\learn-env\\lib\\site-packages\\statsmodels\\tsa\\base\\tsa_model.py:524: ValueWarning: No frequency information was provided, so inferred frequency AS-JAN will be used.\n",
      "  warnings.warn('No frequency information was'\n",
      "C:\\Users\\Johnn\\anaconda3\\envs\\learn-env\\lib\\site-packages\\statsmodels\\tsa\\base\\tsa_model.py:524: ValueWarning: No frequency information was provided, so inferred frequency AS-JAN will be used.\n",
      "  warnings.warn('No frequency information was'\n"
     ]
    },
    {
     "name": "stdout",
     "output_type": "stream",
     "text": [
      "ARIMA(0, 1, 1)x(0, 1, 0, 4) - AIC:-138.66815292033223\n",
      "ARIMA(0, 1, 1)x(0, 1, 1, 4) - AIC:-138.66815292033223\n",
      "ARIMA(0, 1, 1)x(1, 0, 0, 4) - AIC:-138.66815292033223\n",
      "ARIMA(0, 1, 1)x(1, 0, 1, 4) - AIC:-138.66815292033223\n",
      "ARIMA(0, 1, 1)x(1, 1, 0, 4) - AIC:-138.66815292033223\n",
      "ARIMA(0, 1, 1)x(1, 1, 1, 4) - AIC:-138.66815292033223\n",
      "ARIMA(1, 0, 0)x(0, 0, 0, 4) - AIC:-134.01119581238564"
     ]
    },
    {
     "name": "stderr",
     "output_type": "stream",
     "text": [
      "C:\\Users\\Johnn\\anaconda3\\envs\\learn-env\\lib\\site-packages\\statsmodels\\tsa\\base\\tsa_model.py:524: ValueWarning: No frequency information was provided, so inferred frequency AS-JAN will be used.\n",
      "  warnings.warn('No frequency information was'\n",
      "C:\\Users\\Johnn\\anaconda3\\envs\\learn-env\\lib\\site-packages\\statsmodels\\tsa\\base\\tsa_model.py:524: ValueWarning: No frequency information was provided, so inferred frequency AS-JAN will be used.\n",
      "  warnings.warn('No frequency information was'\n",
      "C:\\Users\\Johnn\\anaconda3\\envs\\learn-env\\lib\\site-packages\\statsmodels\\tsa\\base\\tsa_model.py:524: ValueWarning: No frequency information was provided, so inferred frequency AS-JAN will be used.\n",
      "  warnings.warn('No frequency information was'\n",
      "C:\\Users\\Johnn\\anaconda3\\envs\\learn-env\\lib\\site-packages\\statsmodels\\tsa\\base\\tsa_model.py:524: ValueWarning: No frequency information was provided, so inferred frequency AS-JAN will be used.\n",
      "  warnings.warn('No frequency information was'\n",
      "C:\\Users\\Johnn\\anaconda3\\envs\\learn-env\\lib\\site-packages\\statsmodels\\tsa\\base\\tsa_model.py:524: ValueWarning: No frequency information was provided, so inferred frequency AS-JAN will be used.\n",
      "  warnings.warn('No frequency information was'\n",
      "C:\\Users\\Johnn\\anaconda3\\envs\\learn-env\\lib\\site-packages\\statsmodels\\tsa\\base\\tsa_model.py:524: ValueWarning: No frequency information was provided, so inferred frequency AS-JAN will be used.\n",
      "  warnings.warn('No frequency information was'\n",
      "C:\\Users\\Johnn\\anaconda3\\envs\\learn-env\\lib\\site-packages\\statsmodels\\tsa\\base\\tsa_model.py:524: ValueWarning: No frequency information was provided, so inferred frequency AS-JAN will be used.\n",
      "  warnings.warn('No frequency information was'\n",
      "C:\\Users\\Johnn\\anaconda3\\envs\\learn-env\\lib\\site-packages\\statsmodels\\tsa\\base\\tsa_model.py:524: ValueWarning: No frequency information was provided, so inferred frequency AS-JAN will be used.\n",
      "  warnings.warn('No frequency information was'\n",
      "C:\\Users\\Johnn\\anaconda3\\envs\\learn-env\\lib\\site-packages\\statsmodels\\tsa\\base\\tsa_model.py:524: ValueWarning: No frequency information was provided, so inferred frequency AS-JAN will be used.\n",
      "  warnings.warn('No frequency information was'\n",
      "C:\\Users\\Johnn\\anaconda3\\envs\\learn-env\\lib\\site-packages\\statsmodels\\tsa\\base\\tsa_model.py:524: ValueWarning: No frequency information was provided, so inferred frequency AS-JAN will be used.\n",
      "  warnings.warn('No frequency information was'\n",
      "C:\\Users\\Johnn\\anaconda3\\envs\\learn-env\\lib\\site-packages\\statsmodels\\tsa\\base\\tsa_model.py:524: ValueWarning: No frequency information was provided, so inferred frequency AS-JAN will be used.\n",
      "  warnings.warn('No frequency information was'\n",
      "C:\\Users\\Johnn\\anaconda3\\envs\\learn-env\\lib\\site-packages\\statsmodels\\tsa\\base\\tsa_model.py:524: ValueWarning: No frequency information was provided, so inferred frequency AS-JAN will be used.\n",
      "  warnings.warn('No frequency information was'\n"
     ]
    },
    {
     "name": "stdout",
     "output_type": "stream",
     "text": [
      "\n",
      "ARIMA(1, 0, 0)x(0, 0, 1, 4) - AIC:-134.01119581238564\n",
      "ARIMA(1, 0, 0)x(0, 1, 0, 4) - AIC:-134.01119581238564\n",
      "ARIMA(1, 0, 0)x(0, 1, 1, 4) - AIC:-134.01119581238564\n",
      "ARIMA(1, 0, 0)x(1, 0, 0, 4) - AIC:-134.01119581238564\n",
      "ARIMA(1, 0, 0)x(1, 0, 1, 4) - AIC:-134.01119581238564\n",
      "ARIMA(1, 0, 0)x(1, 1, 0, 4) - AIC:-134.01119581238564\n",
      "ARIMA(1, 0, 0)x(1, 1, 1, 4) - AIC:-134.01119581238564\n"
     ]
    },
    {
     "name": "stderr",
     "output_type": "stream",
     "text": [
      "C:\\Users\\Johnn\\anaconda3\\envs\\learn-env\\lib\\site-packages\\statsmodels\\tsa\\base\\tsa_model.py:524: ValueWarning: No frequency information was provided, so inferred frequency AS-JAN will be used.\n",
      "  warnings.warn('No frequency information was'\n",
      "C:\\Users\\Johnn\\anaconda3\\envs\\learn-env\\lib\\site-packages\\statsmodels\\tsa\\base\\tsa_model.py:524: ValueWarning: No frequency information was provided, so inferred frequency AS-JAN will be used.\n",
      "  warnings.warn('No frequency information was'\n",
      "C:\\Users\\Johnn\\anaconda3\\envs\\learn-env\\lib\\site-packages\\statsmodels\\tsa\\base\\tsa_model.py:524: ValueWarning: No frequency information was provided, so inferred frequency AS-JAN will be used.\n",
      "  warnings.warn('No frequency information was'\n",
      "C:\\Users\\Johnn\\anaconda3\\envs\\learn-env\\lib\\site-packages\\statsmodels\\tsa\\base\\tsa_model.py:524: ValueWarning: No frequency information was provided, so inferred frequency AS-JAN will be used.\n",
      "  warnings.warn('No frequency information was'\n",
      "C:\\Users\\Johnn\\anaconda3\\envs\\learn-env\\lib\\site-packages\\statsmodels\\tsa\\base\\tsa_model.py:524: ValueWarning: No frequency information was provided, so inferred frequency AS-JAN will be used.\n",
      "  warnings.warn('No frequency information was'\n",
      "C:\\Users\\Johnn\\anaconda3\\envs\\learn-env\\lib\\site-packages\\statsmodels\\tsa\\base\\tsa_model.py:524: ValueWarning: No frequency information was provided, so inferred frequency AS-JAN will be used.\n",
      "  warnings.warn('No frequency information was'\n",
      "C:\\Users\\Johnn\\anaconda3\\envs\\learn-env\\lib\\site-packages\\statsmodels\\tsa\\base\\tsa_model.py:524: ValueWarning: No frequency information was provided, so inferred frequency AS-JAN will be used.\n",
      "  warnings.warn('No frequency information was'\n",
      "C:\\Users\\Johnn\\anaconda3\\envs\\learn-env\\lib\\site-packages\\statsmodels\\tsa\\base\\tsa_model.py:524: ValueWarning: No frequency information was provided, so inferred frequency AS-JAN will be used.\n",
      "  warnings.warn('No frequency information was'\n",
      "C:\\Users\\Johnn\\anaconda3\\envs\\learn-env\\lib\\site-packages\\statsmodels\\tsa\\base\\tsa_model.py:524: ValueWarning: No frequency information was provided, so inferred frequency AS-JAN will be used.\n",
      "  warnings.warn('No frequency information was'\n",
      "C:\\Users\\Johnn\\anaconda3\\envs\\learn-env\\lib\\site-packages\\statsmodels\\tsa\\base\\tsa_model.py:524: ValueWarning: No frequency information was provided, so inferred frequency AS-JAN will be used.\n",
      "  warnings.warn('No frequency information was'\n",
      "C:\\Users\\Johnn\\anaconda3\\envs\\learn-env\\lib\\site-packages\\statsmodels\\tsa\\base\\tsa_model.py:524: ValueWarning: No frequency information was provided, so inferred frequency AS-JAN will be used.\n",
      "  warnings.warn('No frequency information was'\n",
      "C:\\Users\\Johnn\\anaconda3\\envs\\learn-env\\lib\\site-packages\\statsmodels\\tsa\\base\\tsa_model.py:524: ValueWarning: No frequency information was provided, so inferred frequency AS-JAN will be used.\n",
      "  warnings.warn('No frequency information was'\n",
      "C:\\Users\\Johnn\\anaconda3\\envs\\learn-env\\lib\\site-packages\\statsmodels\\tsa\\base\\tsa_model.py:524: ValueWarning: No frequency information was provided, so inferred frequency AS-JAN will be used.\n",
      "  warnings.warn('No frequency information was'\n",
      "C:\\Users\\Johnn\\anaconda3\\envs\\learn-env\\lib\\site-packages\\statsmodels\\tsa\\base\\tsa_model.py:524: ValueWarning: No frequency information was provided, so inferred frequency AS-JAN will be used.\n",
      "  warnings.warn('No frequency information was'\n",
      "C:\\Users\\Johnn\\anaconda3\\envs\\learn-env\\lib\\site-packages\\statsmodels\\tsa\\base\\tsa_model.py:524: ValueWarning: No frequency information was provided, so inferred frequency AS-JAN will be used.\n",
      "  warnings.warn('No frequency information was'\n",
      "C:\\Users\\Johnn\\anaconda3\\envs\\learn-env\\lib\\site-packages\\statsmodels\\tsa\\base\\tsa_model.py:524: ValueWarning: No frequency information was provided, so inferred frequency AS-JAN will be used.\n",
      "  warnings.warn('No frequency information was'\n",
      "C:\\Users\\Johnn\\anaconda3\\envs\\learn-env\\lib\\site-packages\\statsmodels\\tsa\\base\\tsa_model.py:524: ValueWarning: No frequency information was provided, so inferred frequency AS-JAN will be used.\n",
      "  warnings.warn('No frequency information was'\n",
      "C:\\Users\\Johnn\\anaconda3\\envs\\learn-env\\lib\\site-packages\\statsmodels\\tsa\\base\\tsa_model.py:524: ValueWarning: No frequency information was provided, so inferred frequency AS-JAN will be used.\n",
      "  warnings.warn('No frequency information was'\n",
      "C:\\Users\\Johnn\\anaconda3\\envs\\learn-env\\lib\\site-packages\\statsmodels\\tsa\\base\\tsa_model.py:524: ValueWarning: No frequency information was provided, so inferred frequency AS-JAN will be used.\n",
      "  warnings.warn('No frequency information was'\n",
      "C:\\Users\\Johnn\\anaconda3\\envs\\learn-env\\lib\\site-packages\\statsmodels\\tsa\\base\\tsa_model.py:524: ValueWarning: No frequency information was provided, so inferred frequency AS-JAN will be used.\n",
      "  warnings.warn('No frequency information was'\n",
      "C:\\Users\\Johnn\\anaconda3\\envs\\learn-env\\lib\\site-packages\\statsmodels\\tsa\\base\\tsa_model.py:524: ValueWarning: No frequency information was provided, so inferred frequency AS-JAN will be used.\n",
      "  warnings.warn('No frequency information was'\n",
      "C:\\Users\\Johnn\\anaconda3\\envs\\learn-env\\lib\\site-packages\\statsmodels\\tsa\\base\\tsa_model.py:524: ValueWarning: No frequency information was provided, so inferred frequency AS-JAN will be used.\n",
      "  warnings.warn('No frequency information was'\n"
     ]
    },
    {
     "name": "stdout",
     "output_type": "stream",
     "text": [
      "ARIMA(1, 0, 1)x(0, 0, 0, 4) - AIC:-153.33175464913316\n",
      "ARIMA(1, 0, 1)x(0, 0, 1, 4) - AIC:-153.33175464913316\n",
      "ARIMA(1, 0, 1)x(0, 1, 0, 4) - AIC:-153.33175464913316\n",
      "ARIMA(1, 0, 1)x(0, 1, 1, 4) - AIC:-153.33175464913316\n"
     ]
    },
    {
     "name": "stderr",
     "output_type": "stream",
     "text": [
      "C:\\Users\\Johnn\\anaconda3\\envs\\learn-env\\lib\\site-packages\\statsmodels\\tsa\\base\\tsa_model.py:524: ValueWarning: No frequency information was provided, so inferred frequency AS-JAN will be used.\n",
      "  warnings.warn('No frequency information was'\n",
      "C:\\Users\\Johnn\\anaconda3\\envs\\learn-env\\lib\\site-packages\\statsmodels\\tsa\\base\\tsa_model.py:524: ValueWarning: No frequency information was provided, so inferred frequency AS-JAN will be used.\n",
      "  warnings.warn('No frequency information was'\n",
      "C:\\Users\\Johnn\\anaconda3\\envs\\learn-env\\lib\\site-packages\\statsmodels\\tsa\\base\\tsa_model.py:524: ValueWarning: No frequency information was provided, so inferred frequency AS-JAN will be used.\n",
      "  warnings.warn('No frequency information was'\n",
      "C:\\Users\\Johnn\\anaconda3\\envs\\learn-env\\lib\\site-packages\\statsmodels\\tsa\\base\\tsa_model.py:524: ValueWarning: No frequency information was provided, so inferred frequency AS-JAN will be used.\n",
      "  warnings.warn('No frequency information was'\n",
      "C:\\Users\\Johnn\\anaconda3\\envs\\learn-env\\lib\\site-packages\\statsmodels\\tsa\\base\\tsa_model.py:524: ValueWarning: No frequency information was provided, so inferred frequency AS-JAN will be used.\n",
      "  warnings.warn('No frequency information was'\n",
      "C:\\Users\\Johnn\\anaconda3\\envs\\learn-env\\lib\\site-packages\\statsmodels\\tsa\\base\\tsa_model.py:524: ValueWarning: No frequency information was provided, so inferred frequency AS-JAN will be used.\n",
      "  warnings.warn('No frequency information was'\n",
      "C:\\Users\\Johnn\\anaconda3\\envs\\learn-env\\lib\\site-packages\\statsmodels\\tsa\\base\\tsa_model.py:524: ValueWarning: No frequency information was provided, so inferred frequency AS-JAN will be used.\n",
      "  warnings.warn('No frequency information was'\n",
      "C:\\Users\\Johnn\\anaconda3\\envs\\learn-env\\lib\\site-packages\\statsmodels\\tsa\\base\\tsa_model.py:524: ValueWarning: No frequency information was provided, so inferred frequency AS-JAN will be used.\n",
      "  warnings.warn('No frequency information was'\n"
     ]
    },
    {
     "name": "stdout",
     "output_type": "stream",
     "text": [
      "ARIMA(1, 0, 1)x(1, 0, 0, 4) - AIC:-153.33175464913316\n",
      "ARIMA(1, 0, 1)x(1, 0, 1, 4) - AIC:-153.33175464913316\n",
      "ARIMA(1, 0, 1)x(1, 1, 0, 4) - AIC:-153.33175464913316\n",
      "ARIMA(1, 0, 1)x(1, 1, 1, 4) - AIC:-153.33175464913316\n"
     ]
    },
    {
     "name": "stderr",
     "output_type": "stream",
     "text": [
      "C:\\Users\\Johnn\\anaconda3\\envs\\learn-env\\lib\\site-packages\\statsmodels\\tsa\\base\\tsa_model.py:524: ValueWarning: No frequency information was provided, so inferred frequency AS-JAN will be used.\n",
      "  warnings.warn('No frequency information was'\n",
      "C:\\Users\\Johnn\\anaconda3\\envs\\learn-env\\lib\\site-packages\\statsmodels\\tsa\\base\\tsa_model.py:524: ValueWarning: No frequency information was provided, so inferred frequency AS-JAN will be used.\n",
      "  warnings.warn('No frequency information was'\n",
      "C:\\Users\\Johnn\\anaconda3\\envs\\learn-env\\lib\\site-packages\\statsmodels\\base\\model.py:566: ConvergenceWarning: Maximum Likelihood optimization failed to converge. Check mle_retvals\n",
      "  warnings.warn(\"Maximum Likelihood optimization failed to \"\n",
      "C:\\Users\\Johnn\\anaconda3\\envs\\learn-env\\lib\\site-packages\\statsmodels\\tsa\\base\\tsa_model.py:524: ValueWarning: No frequency information was provided, so inferred frequency AS-JAN will be used.\n",
      "  warnings.warn('No frequency information was'\n",
      "C:\\Users\\Johnn\\anaconda3\\envs\\learn-env\\lib\\site-packages\\statsmodels\\tsa\\base\\tsa_model.py:524: ValueWarning: No frequency information was provided, so inferred frequency AS-JAN will be used.\n",
      "  warnings.warn('No frequency information was'\n",
      "C:\\Users\\Johnn\\anaconda3\\envs\\learn-env\\lib\\site-packages\\statsmodels\\base\\model.py:566: ConvergenceWarning: Maximum Likelihood optimization failed to converge. Check mle_retvals\n",
      "  warnings.warn(\"Maximum Likelihood optimization failed to \"\n",
      "C:\\Users\\Johnn\\anaconda3\\envs\\learn-env\\lib\\site-packages\\statsmodels\\tsa\\base\\tsa_model.py:524: ValueWarning: No frequency information was provided, so inferred frequency AS-JAN will be used.\n",
      "  warnings.warn('No frequency information was'\n",
      "C:\\Users\\Johnn\\anaconda3\\envs\\learn-env\\lib\\site-packages\\statsmodels\\tsa\\base\\tsa_model.py:524: ValueWarning: No frequency information was provided, so inferred frequency AS-JAN will be used.\n",
      "  warnings.warn('No frequency information was'\n",
      "C:\\Users\\Johnn\\anaconda3\\envs\\learn-env\\lib\\site-packages\\statsmodels\\base\\model.py:566: ConvergenceWarning: Maximum Likelihood optimization failed to converge. Check mle_retvals\n",
      "  warnings.warn(\"Maximum Likelihood optimization failed to \"\n",
      "C:\\Users\\Johnn\\anaconda3\\envs\\learn-env\\lib\\site-packages\\statsmodels\\tsa\\base\\tsa_model.py:524: ValueWarning: No frequency information was provided, so inferred frequency AS-JAN will be used.\n",
      "  warnings.warn('No frequency information was'\n",
      "C:\\Users\\Johnn\\anaconda3\\envs\\learn-env\\lib\\site-packages\\statsmodels\\tsa\\base\\tsa_model.py:524: ValueWarning: No frequency information was provided, so inferred frequency AS-JAN will be used.\n",
      "  warnings.warn('No frequency information was'\n",
      "C:\\Users\\Johnn\\anaconda3\\envs\\learn-env\\lib\\site-packages\\statsmodels\\base\\model.py:566: ConvergenceWarning: Maximum Likelihood optimization failed to converge. Check mle_retvals\n",
      "  warnings.warn(\"Maximum Likelihood optimization failed to \"\n"
     ]
    },
    {
     "name": "stdout",
     "output_type": "stream",
     "text": [
      "ARIMA(1, 1, 0)x(0, 0, 0, 4) - AIC:-210.21779722558088\n",
      "ARIMA(1, 1, 0)x(0, 0, 1, 4) - AIC:-210.21779722558088\n",
      "ARIMA(1, 1, 0)x(0, 1, 0, 4) - AIC:-210.21779722558088\n",
      "ARIMA(1, 1, 0)x(0, 1, 1, 4) - AIC:-210.21779722558088\n",
      "ARIMA(1, 1, 0)x(1, 0, 0, 4) - AIC:-210.21779722558088\n"
     ]
    },
    {
     "name": "stderr",
     "output_type": "stream",
     "text": [
      "C:\\Users\\Johnn\\anaconda3\\envs\\learn-env\\lib\\site-packages\\statsmodels\\tsa\\base\\tsa_model.py:524: ValueWarning: No frequency information was provided, so inferred frequency AS-JAN will be used.\n",
      "  warnings.warn('No frequency information was'\n",
      "C:\\Users\\Johnn\\anaconda3\\envs\\learn-env\\lib\\site-packages\\statsmodels\\tsa\\base\\tsa_model.py:524: ValueWarning: No frequency information was provided, so inferred frequency AS-JAN will be used.\n",
      "  warnings.warn('No frequency information was'\n",
      "C:\\Users\\Johnn\\anaconda3\\envs\\learn-env\\lib\\site-packages\\statsmodels\\base\\model.py:566: ConvergenceWarning: Maximum Likelihood optimization failed to converge. Check mle_retvals\n",
      "  warnings.warn(\"Maximum Likelihood optimization failed to \"\n",
      "C:\\Users\\Johnn\\anaconda3\\envs\\learn-env\\lib\\site-packages\\statsmodels\\tsa\\base\\tsa_model.py:524: ValueWarning: No frequency information was provided, so inferred frequency AS-JAN will be used.\n",
      "  warnings.warn('No frequency information was'\n",
      "C:\\Users\\Johnn\\anaconda3\\envs\\learn-env\\lib\\site-packages\\statsmodels\\tsa\\base\\tsa_model.py:524: ValueWarning: No frequency information was provided, so inferred frequency AS-JAN will be used.\n",
      "  warnings.warn('No frequency information was'\n",
      "C:\\Users\\Johnn\\anaconda3\\envs\\learn-env\\lib\\site-packages\\statsmodels\\base\\model.py:566: ConvergenceWarning: Maximum Likelihood optimization failed to converge. Check mle_retvals\n",
      "  warnings.warn(\"Maximum Likelihood optimization failed to \"\n",
      "C:\\Users\\Johnn\\anaconda3\\envs\\learn-env\\lib\\site-packages\\statsmodels\\tsa\\base\\tsa_model.py:524: ValueWarning: No frequency information was provided, so inferred frequency AS-JAN will be used.\n",
      "  warnings.warn('No frequency information was'\n",
      "C:\\Users\\Johnn\\anaconda3\\envs\\learn-env\\lib\\site-packages\\statsmodels\\tsa\\base\\tsa_model.py:524: ValueWarning: No frequency information was provided, so inferred frequency AS-JAN will be used.\n",
      "  warnings.warn('No frequency information was'\n",
      "C:\\Users\\Johnn\\anaconda3\\envs\\learn-env\\lib\\site-packages\\statsmodels\\base\\model.py:566: ConvergenceWarning: Maximum Likelihood optimization failed to converge. Check mle_retvals\n",
      "  warnings.warn(\"Maximum Likelihood optimization failed to \"\n",
      "C:\\Users\\Johnn\\anaconda3\\envs\\learn-env\\lib\\site-packages\\statsmodels\\tsa\\base\\tsa_model.py:524: ValueWarning: No frequency information was provided, so inferred frequency AS-JAN will be used.\n",
      "  warnings.warn('No frequency information was'\n",
      "C:\\Users\\Johnn\\anaconda3\\envs\\learn-env\\lib\\site-packages\\statsmodels\\tsa\\base\\tsa_model.py:524: ValueWarning: No frequency information was provided, so inferred frequency AS-JAN will be used.\n",
      "  warnings.warn('No frequency information was'\n",
      "C:\\Users\\Johnn\\anaconda3\\envs\\learn-env\\lib\\site-packages\\statsmodels\\base\\model.py:566: ConvergenceWarning: Maximum Likelihood optimization failed to converge. Check mle_retvals\n",
      "  warnings.warn(\"Maximum Likelihood optimization failed to \"\n",
      "C:\\Users\\Johnn\\anaconda3\\envs\\learn-env\\lib\\site-packages\\statsmodels\\tsa\\base\\tsa_model.py:524: ValueWarning: No frequency information was provided, so inferred frequency AS-JAN will be used.\n",
      "  warnings.warn('No frequency information was'\n",
      "C:\\Users\\Johnn\\anaconda3\\envs\\learn-env\\lib\\site-packages\\statsmodels\\tsa\\base\\tsa_model.py:524: ValueWarning: No frequency information was provided, so inferred frequency AS-JAN will be used.\n",
      "  warnings.warn('No frequency information was'\n"
     ]
    },
    {
     "name": "stdout",
     "output_type": "stream",
     "text": [
      "ARIMA(1, 1, 0)x(1, 0, 1, 4) - AIC:-210.21779722558088\n",
      "ARIMA(1, 1, 0)x(1, 1, 0, 4) - AIC:-210.21779722558088\n",
      "ARIMA(1, 1, 0)x(1, 1, 1, 4) - AIC:-210.21779722558088\n",
      "ARIMA(1, 1, 1)x(0, 0, 0, 4) - AIC:-217.19760742746027\n",
      "ARIMA(1, 1, 1)x(0, 0, 1, 4) - AIC:-217.19760742746027\n",
      "ARIMA(1, 1, 1)x(0, 1, 0, 4) - AIC:-217.19760742746027\n"
     ]
    },
    {
     "name": "stderr",
     "output_type": "stream",
     "text": [
      "C:\\Users\\Johnn\\anaconda3\\envs\\learn-env\\lib\\site-packages\\statsmodels\\tsa\\base\\tsa_model.py:524: ValueWarning: No frequency information was provided, so inferred frequency AS-JAN will be used.\n",
      "  warnings.warn('No frequency information was'\n",
      "C:\\Users\\Johnn\\anaconda3\\envs\\learn-env\\lib\\site-packages\\statsmodels\\tsa\\base\\tsa_model.py:524: ValueWarning: No frequency information was provided, so inferred frequency AS-JAN will be used.\n",
      "  warnings.warn('No frequency information was'\n",
      "C:\\Users\\Johnn\\anaconda3\\envs\\learn-env\\lib\\site-packages\\statsmodels\\tsa\\base\\tsa_model.py:524: ValueWarning: No frequency information was provided, so inferred frequency AS-JAN will be used.\n",
      "  warnings.warn('No frequency information was'\n",
      "C:\\Users\\Johnn\\anaconda3\\envs\\learn-env\\lib\\site-packages\\statsmodels\\tsa\\base\\tsa_model.py:524: ValueWarning: No frequency information was provided, so inferred frequency AS-JAN will be used.\n",
      "  warnings.warn('No frequency information was'\n",
      "C:\\Users\\Johnn\\anaconda3\\envs\\learn-env\\lib\\site-packages\\statsmodels\\tsa\\base\\tsa_model.py:524: ValueWarning: No frequency information was provided, so inferred frequency AS-JAN will be used.\n",
      "  warnings.warn('No frequency information was'\n",
      "C:\\Users\\Johnn\\anaconda3\\envs\\learn-env\\lib\\site-packages\\statsmodels\\tsa\\base\\tsa_model.py:524: ValueWarning: No frequency information was provided, so inferred frequency AS-JAN will be used.\n",
      "  warnings.warn('No frequency information was'\n",
      "C:\\Users\\Johnn\\anaconda3\\envs\\learn-env\\lib\\site-packages\\statsmodels\\tsa\\base\\tsa_model.py:524: ValueWarning: No frequency information was provided, so inferred frequency AS-JAN will be used.\n",
      "  warnings.warn('No frequency information was'\n",
      "C:\\Users\\Johnn\\anaconda3\\envs\\learn-env\\lib\\site-packages\\statsmodels\\tsa\\base\\tsa_model.py:524: ValueWarning: No frequency information was provided, so inferred frequency AS-JAN will be used.\n",
      "  warnings.warn('No frequency information was'\n",
      "C:\\Users\\Johnn\\anaconda3\\envs\\learn-env\\lib\\site-packages\\statsmodels\\tsa\\base\\tsa_model.py:524: ValueWarning: No frequency information was provided, so inferred frequency AS-JAN will be used.\n",
      "  warnings.warn('No frequency information was'\n",
      "C:\\Users\\Johnn\\anaconda3\\envs\\learn-env\\lib\\site-packages\\statsmodels\\tsa\\base\\tsa_model.py:524: ValueWarning: No frequency information was provided, so inferred frequency AS-JAN will be used.\n",
      "  warnings.warn('No frequency information was'\n",
      "C:\\Users\\Johnn\\anaconda3\\envs\\learn-env\\lib\\site-packages\\statsmodels\\tsa\\base\\tsa_model.py:524: ValueWarning: No frequency information was provided, so inferred frequency AS-JAN will be used.\n",
      "  warnings.warn('No frequency information was'\n",
      "C:\\Users\\Johnn\\anaconda3\\envs\\learn-env\\lib\\site-packages\\statsmodels\\tsa\\base\\tsa_model.py:524: ValueWarning: No frequency information was provided, so inferred frequency AS-JAN will be used.\n",
      "  warnings.warn('No frequency information was'\n"
     ]
    },
    {
     "name": "stdout",
     "output_type": "stream",
     "text": [
      "ARIMA(1, 1, 1)x(0, 1, 1, 4) - AIC:-217.19760742746027\n",
      "ARIMA(1, 1, 1)x(1, 0, 0, 4) - AIC:-217.19760742746027\n",
      "ARIMA(1, 1, 1)x(1, 0, 1, 4) - AIC:-217.19760742746027\n",
      "ARIMA(1, 1, 1)x(1, 1, 0, 4) - AIC:-217.19760742746027\n",
      "ARIMA(1, 1, 1)x(1, 1, 1, 4) - AIC:-217.19760742746027\n"
     ]
    },
    {
     "name": "stderr",
     "output_type": "stream",
     "text": [
      "C:\\Users\\Johnn\\anaconda3\\envs\\learn-env\\lib\\site-packages\\statsmodels\\tsa\\base\\tsa_model.py:524: ValueWarning: No frequency information was provided, so inferred frequency AS-JAN will be used.\n",
      "  warnings.warn('No frequency information was'\n",
      "C:\\Users\\Johnn\\anaconda3\\envs\\learn-env\\lib\\site-packages\\statsmodels\\tsa\\base\\tsa_model.py:524: ValueWarning: No frequency information was provided, so inferred frequency AS-JAN will be used.\n",
      "  warnings.warn('No frequency information was'\n"
     ]
    }
   ],
   "source": [
    "for param in pdq:\n",
    "    for param_seasonal in seasonal_pdq:\n",
    "        try:\n",
    "            mod=SARIMAX(train,\n",
    "                         order=param,\n",
    "                         enforce_stationarity=False,\n",
    "                         enforce_invertibility=False)\n",
    "            results = mod.fit()\n",
    "            print('ARIMA{}x{} - AIC:{}'.format(param,param_seasonal,results.aic))\n",
    "        except: \n",
    "            print('Oops!')\n",
    "            continue"
   ]
  },
  {
   "cell_type": "markdown",
   "metadata": {},
   "source": [
    "#### Analysis\n",
    "\n",
    "The best model I found was with an order of (2, 1, 1) and a seasonal order of (0, 0, 1, 4)"
   ]
  },
  {
   "cell_type": "code",
   "execution_count": 77,
   "metadata": {},
   "outputs": [
    {
     "name": "stderr",
     "output_type": "stream",
     "text": [
      "C:\\Users\\Johnn\\anaconda3\\envs\\learn-env\\lib\\site-packages\\statsmodels\\tsa\\statespace\\sarimax.py:865: UserWarning: Too few observations to estimate starting parameters for ARMA and trend. All parameters except for variances will be set to zeros.\n",
      "  warn('Too few observations to estimate starting parameters%s.'\n",
      "C:\\Users\\Johnn\\anaconda3\\envs\\learn-env\\lib\\site-packages\\statsmodels\\tsa\\statespace\\sarimax.py:865: UserWarning: Too few observations to estimate starting parameters for seasonal ARMA. All parameters except for variances will be set to zeros.\n",
      "  warn('Too few observations to estimate starting parameters%s.'\n",
      "C:\\Users\\Johnn\\anaconda3\\envs\\learn-env\\lib\\site-packages\\statsmodels\\tsa\\statespace\\sarimax.py:865: UserWarning: Too few observations to estimate starting parameters for seasonal ARMA. All parameters except for variances will be set to zeros.\n",
      "  warn('Too few observations to estimate starting parameters%s.'\n",
      "C:\\Users\\Johnn\\anaconda3\\envs\\learn-env\\lib\\site-packages\\statsmodels\\base\\model.py:566: ConvergenceWarning: Maximum Likelihood optimization failed to converge. Check mle_retvals\n",
      "  warnings.warn(\"Maximum Likelihood optimization failed to \"\n"
     ]
    },
    {
     "name": "stdout",
     "output_type": "stream",
     "text": [
      "0.05525329501129499\n",
      "0.004856536739649589\n"
     ]
    },
    {
     "name": "stderr",
     "output_type": "stream",
     "text": [
      "C:\\Users\\Johnn\\anaconda3\\envs\\learn-env\\lib\\site-packages\\statsmodels\\tsa\\statespace\\sarimax.py:865: UserWarning: Too few observations to estimate starting parameters for seasonal ARMA. All parameters except for variances will be set to zeros.\n",
      "  warn('Too few observations to estimate starting parameters%s.'\n"
     ]
    },
    {
     "name": "stdout",
     "output_type": "stream",
     "text": [
      "0.0037555596738466294\n",
      "0.000474664611816503\n",
      "0.012926912557330056\n"
     ]
    },
    {
     "name": "stderr",
     "output_type": "stream",
     "text": [
      "C:\\Users\\Johnn\\anaconda3\\envs\\learn-env\\lib\\site-packages\\statsmodels\\base\\model.py:566: ConvergenceWarning: Maximum Likelihood optimization failed to converge. Check mle_retvals\n",
      "  warnings.warn(\"Maximum Likelihood optimization failed to \"\n"
     ]
    }
   ],
   "source": [
    "#Cross validation for my training set before I apply it to the test set\n",
    "#Reset the Index for easier validation\n",
    "train_with_ind = train.reset_index()\n",
    "\n",
    "for train_ind, val_ind in split.split(train_with_ind):\n",
    "    sarimax = SARIMAX(endog=train_with_ind.iloc[train_ind, -1],\n",
    "                      order=(2, 1, 1),\n",
    "                     seasonal_order=(0, 0, 1, 4),\n",
    "                     enforce_stationarity=False,\n",
    "                     enforce_invertibility=False).fit()\n",
    "    preds = sarimax.predict(typ='levels', start=val_ind[0], end=val_ind[-1])\n",
    "    true = train_with_ind.iloc[val_ind, -1]\n",
    "    print(np.sqrt(mean_squared_error(true, preds)))"
   ]
  },
  {
   "cell_type": "markdown",
   "metadata": {},
   "source": [
    "The cross validation scores look good and is ready to be applied to the test set. It should be noted that the model does best in the middle of the data set were there was less variation, and worse in the beginning and end when rates were rising fastest and dropping rapidly.  "
   ]
  },
  {
   "cell_type": "code",
   "execution_count": 81,
   "metadata": {},
   "outputs": [
    {
     "name": "stderr",
     "output_type": "stream",
     "text": [
      "C:\\Users\\Johnn\\anaconda3\\envs\\learn-env\\lib\\site-packages\\statsmodels\\tsa\\base\\tsa_model.py:524: ValueWarning: No frequency information was provided, so inferred frequency AS-JAN will be used.\n",
      "  warnings.warn('No frequency information was'\n",
      "C:\\Users\\Johnn\\anaconda3\\envs\\learn-env\\lib\\site-packages\\statsmodels\\tsa\\base\\tsa_model.py:524: ValueWarning: No frequency information was provided, so inferred frequency AS-JAN will be used.\n",
      "  warnings.warn('No frequency information was'\n",
      "C:\\Users\\Johnn\\anaconda3\\envs\\learn-env\\lib\\site-packages\\statsmodels\\base\\model.py:566: ConvergenceWarning: Maximum Likelihood optimization failed to converge. Check mle_retvals\n",
      "  warnings.warn(\"Maximum Likelihood optimization failed to \"\n"
     ]
    },
    {
     "data": {
      "text/plain": [
       "0.0007408001705397787"
      ]
     },
     "execution_count": 81,
     "metadata": {},
     "output_type": "execute_result"
    }
   ],
   "source": [
    "#Create a variable for the final model\n",
    "sari_mod = SARIMAX(train\n",
    "                   ,order = (2, 1, 1)\n",
    "                   ,seasonal_order = (0,0,1,4)\n",
    "                   ,enforce_stationarity=False\n",
    "                   ,enforce_invertibility=False).fit()\n",
    "\n",
    "#Use the fitted model to predict on the test set\n",
    "y_hat_test = sari_mod.predict(start=test.index[0], end=test.index[-1],typ='levels')\n",
    "#Print the RMSE for our test data\n",
    "np.sqrt(mean_squared_error(test, y_hat_test))"
   ]
  },
  {
   "cell_type": "markdown",
   "metadata": {},
   "source": [
    "#### Analysis\n",
    "The RMSE for this model was .0007 as compared to the baseline model which was .013. This is a significant improvement in error reduction by 95%."
   ]
  },
  {
   "cell_type": "markdown",
   "metadata": {},
   "source": [
    "### Time Series Graphs"
   ]
  },
  {
   "cell_type": "code",
   "execution_count": 105,
   "metadata": {},
   "outputs": [
    {
     "data": {
      "image/png": "[encoded data removed]",
      "text/plain": [
       "<Figure size 720x504 with 1 Axes>"
      ]
     },
     "metadata": {},
     "output_type": "display_data"
    }
   ],
   "source": [
    "#Graphing the time series to get the full picture\n",
    "\n",
    "#Defining variables for graph syntex\n",
    "y_hat_train = sari_mod.predict(typ='levels')\n",
    "y_hat_test = sari_mod.predict(start=test.index[0], end=test.index[-1],typ='levels')\n",
    "\n",
    "fig, ax = plt.subplots(figsize = (10, 7))\n",
    "#The data is un-transformed by exponentiating the values. This undoes the log transformation\n",
    "ax.plot(np.exp(train), label='train', lw = 3)\n",
    "ax.plot(np.exp(test), label='test', lw = 3)\n",
    "ax.plot(np.exp(y_hat_train), label='train_pred', lw = 3)\n",
    "ax.plot(np.exp(y_hat_test), label='test_pred', lw = 3)\n",
    "ax.set_title ('Depression Rates Model', fontsize = 18)\n",
    "ax.set_xlabel('Year', fontsize = 16)\n",
    "ax.set_ylabel(\"Depression Rates\", fontsize = 16)\n",
    "plt.xlim(pd.Timestamp('1996-01-01'), pd.Timestamp('2020-01-01'))\n",
    "plt.ylim(4.7, 5)\n",
    "plt.legend();"
   ]
  },
  {
   "cell_type": "code",
   "execution_count": 89,
   "metadata": {},
   "outputs": [
    {
     "data": {
      "image/png": "[encoded data removed]",
      "text/plain": [
       "<Figure size 432x288 with 1 Axes>"
      ]
     },
     "metadata": {},
     "output_type": "display_data"
    }
   ],
   "source": [
    "# Let's zoom in on test\n",
    "fig, ax = plt.subplots()\n",
    "\n",
    "ax.plot(test, label='true',lw = 3)\n",
    "ax.plot(y_hat_test, label='pred', lw = 3)\n",
    "\n",
    "plt.legend();"
   ]
  },
  {
   "cell_type": "markdown",
   "metadata": {},
   "source": [
    "### Forecasting Into the Futre"
   ]
  },
  {
   "cell_type": "code",
   "execution_count": 106,
   "metadata": {},
   "outputs": [
    {
     "data": {
      "image/png": "[encoded data removed]",
      "text/plain": [
       "<Figure size 1008x504 with 1 Axes>"
      ]
     },
     "metadata": {},
     "output_type": "display_data"
    }
   ],
   "source": [
    "#Forecast out 8 years past the current dataset\n",
    "forecast = sari_mod.forecast(steps=14)\n",
    "fig, ax = plt.subplots(figsize = (14, 7))\n",
    "ax.plot(us_depression_rates, label='so_far', lw = 3)\n",
    "ax.plot(np.exp(forecast), label='forecast', lw = 3)\n",
    "ax.set_title('Predicted Depression Rates in the U.S.', fontsize = 24)\n",
    "ax.set_xlabel('Year', fontsize = 16)\n",
    "ax.set_ylabel(\"Depression Rates\", fontsize = 16)\n",
    "plt.legend();"
   ]
  },
  {
   "cell_type": "markdown",
   "metadata": {},
   "source": [
    "The model is predicting that rates will continue to grow for the foreseeable future. \n",
    "\n",
    "This is important to the CDC because it shows that the prevalence of this disesase is growing. This will allow them to better advocate for resources and expand outreach in order to curb it's spread. "
   ]
  },
  {
   "cell_type": "markdown",
   "metadata": {},
   "source": [
    "## Next Steps\n",
    "\n",
    "In order to further assist the CDC, I would like to look at two more aspects of this dataset that could be useful to target outreach in communities that suffer from depression the most. \n",
    "\n",
    "Although this data looked at the U.S. population as a whole, it is also broken down into gender and age. Depression in youth is growing faster (https://www.pewresearch.org/fact-tank/2019/07/12/a-growing-number-of-american-teenagers-particularly-girls-are-facing-depression/#:~:text=The%20total%20number%20of%20teenagers,than%20for%20boys%20(44%25) and will have a bigger effect on those who suffer and the economy as a whole. This is due to higher lifetime treatment costs and lower economic potential.\n",
    "\n",
    "Additionally, women are more likely to suffer from this disorder, and examining men and women separately may provide new insight into why. \n",
    "\n",
    "Finally, other disorders are linked to depression so including drug abuse, anxiety disorders, may farther improve the model's accuracy. "
   ]
  },
  {
   "cell_type": "code",
   "execution_count": null,
   "metadata": {},
   "outputs": [],
   "source": []
  }
 ],
 "metadata": {
  "kernelspec": {
   "display_name": "Python (learn-env)",
   "language": "python",
   "name": "learn-env"
  },
  "language_info": {
   "codemirror_mode": {
    "name": "ipython",
    "version": 3
   },
   "file_extension": ".py",
   "mimetype": "text/x-python",
   "name": "python",
   "nbconvert_exporter": "python",
   "pygments_lexer": "ipython3",
   "version": "3.8.5"
  }
 },
 "nbformat": 4,
 "nbformat_minor": 4
}
